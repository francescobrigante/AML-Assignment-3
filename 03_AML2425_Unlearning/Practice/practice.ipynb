{
 "cells": [
  {
   "cell_type": "markdown",
   "metadata": {},
   "source": [
    "# AML Homework 3: Practice\n"
   ]
  },
  {
   "cell_type": "markdown",
   "metadata": {},
   "source": [
    "## Table of contents:\n",
    "This notebook is composed of 7 Sections for 17 points\n",
    "\n",
    "* **Section 1: Train a CNN from Scratch on CIFAR-10 ( 2 Points)**\n",
    "\n",
    "    We will implement a Convolutional Neural Network (CNN) from the ground up to classify images from the CIFAR-10 dataset. The focus will be on understanding the architecture of CNNs, preprocessing the dataset, and optimizing the model to achieve high accuracy.\n",
    "\n",
    "* **Section 2: Unlearning( 2 Points)**\n",
    "\n",
    "    We introduce the concept of unlearning, which involves modifying a trained model to forget specific data points while retaining its overall performance.\n",
    "\n",
    "* **Section 3: Gold model ( 2 Points)**\n",
    "\n",
    "    We discuss the development of the Gold model, which serves as the benchmark for evaluating performance after implementing unlearning techniques. \n",
    "\n",
    "\n",
    "* **Section 4: Mia Attacks ( 3 Points)**\n",
    "\n",
    "    This section will focus on MIA (Membership Inference Attacks), which are designed to determine whether a specific data point was included in the training set of a machine learning model. \n",
    "    \n",
    "* **Section 5: Unlearning with KL divergence ( 2 Points)**\n",
    "\n",
    "    This section will discuss the application of Kullback-Leibler (KL) divergence in the unlearning process, emphasizing its role in quantifying the difference between the model's original and modified predictions.\n",
    "\n",
    "* **Section 6: GMN for Unlearning ( 6 Points)**\n",
    "\n",
    "    This section will introduce the use of Graph Meta Networks (GMNs) in the unlearning process, highlighting their ability to adaptively modify model parameters based on specific unlearning tasks.\n",
    "\n",
    "Do not modify parts of code that are not marked with \"Your turn\" or \"Add your code below\"."
   ]
  },
  {
   "cell_type": "code",
   "execution_count": 39,
   "metadata": {},
   "outputs": [],
   "source": [
    "# import libraries\n",
    "import numpy as np\n",
    "import pandas as pd\n",
    "import matplotlib.pyplot as plt\n",
    "import torch\n",
    "import torch.nn as nn\n",
    "from torchvision import datasets, transforms\n",
    "from torchvision.transforms import ToTensor\n",
    "from torch.utils.data import DataLoader\n",
    "from tqdm import tqdm\n",
    "import os\n",
    "import random\n",
    "from sklearn import linear_model, model_selection\n",
    "from torch_geometric.data import Data\n",
    "from gmn.graph_construct.model_arch_graph import sequential_to_arch, arch_to_graph\n",
    "import torch.nn.functional as F\n",
    "\n",
    "\n",
    "#fix seeds\n",
    "np.random.seed(0)\n",
    "torch.manual_seed(0)\n",
    "random.seed(0)\n",
    "torch.cuda.manual_seed(0)\n",
    "torch.cuda.manual_seed_all(0)\n",
    "torch.backends.cudnn.deterministic = True\n",
    "torch.backends.cudnn.benchmark = False\n"
   ]
  },
  {
   "cell_type": "markdown",
   "metadata": {},
   "source": [
    "# Section 1: Train from scratch a CNN on CIFAR-10"
   ]
  },
  {
   "cell_type": "markdown",
   "metadata": {},
   "source": [
    "### 1.1: Model definition"
   ]
  },
  {
   "cell_type": "code",
   "execution_count": 40,
   "metadata": {},
   "outputs": [],
   "source": [
    "def create_model():\n",
    "    '''\n",
    "    Create a simple CNN model for CIFAR10 dataset\n",
    "    '''\n",
    "\n",
    "    model = nn.Sequential(\n",
    "        nn.Conv2d(3, 32, kernel_size=(3, 3), stride=1, padding=1),\n",
    "        nn.BatchNorm2d(32),\n",
    "        nn.ReLU(),\n",
    "        nn.AvgPool2d(kernel_size=2, stride=2),\n",
    "        nn.Dropout(p=0.1),\n",
    "\n",
    "        nn.Conv2d(32, 64, kernel_size=(3, 3), stride=1, padding=1),\n",
    "        nn.BatchNorm2d(64),\n",
    "        nn.ReLU(),\n",
    "        nn.AvgPool2d(kernel_size=2, stride=2),\n",
    "        nn.Dropout(p=0.1),\n",
    "\n",
    "        nn.Conv2d(64, 64, kernel_size=(3, 3), stride=1, padding=1),\n",
    "        nn.BatchNorm2d(64),\n",
    "        nn.ReLU(),\n",
    "        nn.AdaptiveAvgPool2d((1,1)),\n",
    "        nn.Flatten(),\n",
    "        nn.Dropout(p=0.1),\n",
    "        \n",
    "        nn.Linear(64, 32),\n",
    "        nn.ReLU(),\n",
    "        nn.Dropout(p=0.1),\n",
    "        \n",
    "        nn.Linear(32, 10)\n",
    "    )\n",
    "    \n",
    "    return model"
   ]
  },
  {
   "cell_type": "markdown",
   "metadata": {},
   "source": [
    "### 1.2 DataLoader\n"
   ]
  },
  {
   "cell_type": "markdown",
   "metadata": {},
   "source": [
    "#### Your turn ( 1 Point)\n",
    "\n",
    "Calculate the mean and the standard deviation vectors to be used in cifar_transforms  rounding the values to four decimal places."
   ]
  },
  {
   "cell_type": "code",
   "execution_count": 41,
   "metadata": {},
   "outputs": [
    {
     "name": "stdout",
     "output_type": "stream",
     "text": [
      "Files already downloaded and verified\n",
      "Mean:  [0.4914 0.4822 0.4465]\n",
      "Std:  [0.247  0.2435 0.2616]\n"
     ]
    }
   ],
   "source": [
    "import numpy as np\n",
    "from torchvision import datasets, transforms\n",
    "\n",
    "# Load the dataset\n",
    "train_dataset = datasets.CIFAR10(root='./data', train=True, download=True, transform=transforms.ToTensor())\n",
    "\n",
    "'''\n",
    "Add your code below\n",
    "'''\n",
    "# Compute the mean and standard deviation for each channel\n",
    "#each element in train_dataset.data is a tensor of shape (32, 32, 3)\n",
    "mean = train_dataset.data.mean(axis=(0, 1, 2)) / 255\n",
    "std = train_dataset.data.std(axis=(0, 1, 2)) / 255\n",
    "\n",
    "\n",
    "print(\"Mean: \", np.round(mean, 4))\n",
    "print(\"Std: \", np.round(std, 4))"
   ]
  },
  {
   "cell_type": "code",
   "execution_count": 42,
   "metadata": {},
   "outputs": [
    {
     "name": "stdout",
     "output_type": "stream",
     "text": [
      "Files already downloaded and verified\n",
      "Files already downloaded and verified\n"
     ]
    }
   ],
   "source": [
    "# Define the augmentations for the training set\n",
    "cifar_transforms = transforms.Compose([\n",
    "    transforms.ToTensor(),                    # Convert the image to a PyTorch tensor\n",
    "    transforms.Normalize(mean, std), # Normalize the image channel\n",
    "])\n",
    "\n",
    "# Load the CIFAR-10 dataset with the appropriate transforms\n",
    "train_dataset = datasets.CIFAR10(root=\"data\", train=True, transform=cifar_transforms, download=True)  \n",
    "test_dataset = datasets.CIFAR10(root=\"data\", train=False, transform=cifar_transforms, download=True)  \n",
    "\n",
    "#split test into test and validation\n",
    "val_dataset, test_dataset = torch.utils.data.random_split(test_dataset, [2000, 8000])"
   ]
  },
  {
   "cell_type": "code",
   "execution_count": 43,
   "metadata": {},
   "outputs": [],
   "source": [
    "batch_size = 512\n",
    "\n",
    "# Create the DataLoaders\n",
    "train_loader = DataLoader(train_dataset, batch_size = batch_size, shuffle=True)\n",
    "val_loader = DataLoader(val_dataset, batch_size = batch_size, shuffle=False)\n",
    "test_loader = DataLoader(test_dataset, batch_size = batch_size, shuffle=False)"
   ]
  },
  {
   "cell_type": "markdown",
   "metadata": {},
   "source": [
    "### 1.3 See the data"
   ]
  },
  {
   "cell_type": "code",
   "execution_count": 44,
   "metadata": {},
   "outputs": [
    {
     "data": {
      "image/png": "[encoded data removed]",
      "text/plain": [
       "<Figure size 2000x400 with 20 Axes>"
      ]
     },
     "metadata": {},
     "output_type": "display_data"
    }
   ],
   "source": [
    "# plot 2 figures for each of the 10 classes in the dataset\n",
    "fig, axs = plt.subplots(2, 10, figsize=(20, 4))\n",
    "for i in range(10):\n",
    "    # Get the first image of each class\n",
    "    img = train_dataset.data[train_dataset.targets.index(i)]\n",
    "    axs[0, i].imshow(img)\n",
    "    axs[0, i].axis('off')\n",
    "    axs[0, i].set_title(train_dataset.classes[i])\n",
    "\n",
    "    # Get the second image of each class\n",
    "    img = train_dataset.data[train_dataset.targets.index(i, train_dataset.targets.index(i) + 1)]\n",
    "    axs[1, i].imshow(img)\n",
    "    axs[1, i].axis('off')"
   ]
  },
  {
   "cell_type": "markdown",
   "metadata": {},
   "source": [
    "### 1.4: Training Loop"
   ]
  },
  {
   "cell_type": "code",
   "execution_count": 16,
   "metadata": {},
   "outputs": [
    {
     "name": "stderr",
     "output_type": "stream",
     "text": [
      "/var/folders/g1/_jmd0tb55d58p50yyylwr0_00000gn/T/ipykernel_75870/705269202.py:4: FutureWarning: You are using `torch.load` with `weights_only=False` (the current default value), which uses the default pickle module implicitly. It is possible to construct malicious pickle data which will execute arbitrary code during unpickling (See https://github.com/pytorch/pytorch/blob/main/SECURITY.md#untrusted-models for more details). In a future release, the default value for `weights_only` will be flipped to `True`. This limits the functions that could be executed during unpickling. Arbitrary objects will no longer be allowed to be loaded via this mode unless they are explicitly allowlisted by the user via `torch.serialization.add_safe_globals`. We recommend you start setting `weights_only=True` for any use case where you don't have full control of the loaded file. Please open an issue on GitHub for any issues related to this experimental feature.\n",
      "  model.load_state_dict(torch.load('checkpoint/model_weights.pth'))\n"
     ]
    }
   ],
   "source": [
    "device = torch.device(\"cuda\" if torch.cuda.is_available() else \"cpu\")\n",
    "#load weights\n",
    "model = create_model()\n",
    "model.load_state_dict(torch.load('checkpoint/model_weights.pth'))  \n",
    "model.to(device);\n",
    "\n",
    "# initialize the loss function and optimizer\n",
    "criterion = nn.CrossEntropyLoss()\n",
    "optimizer = torch.optim.Adam(model.parameters(), lr=0.001)\n",
    "scheduler = torch.optim.lr_scheduler.ReduceLROnPlateau(optimizer, mode='min', factor=0.1, patience=5, verbose=True)\n",
    "num_epochs = 20\n"
   ]
  },
  {
   "cell_type": "code",
   "execution_count": 46,
   "metadata": {},
   "outputs": [
    {
     "name": "stderr",
     "output_type": "stream",
     "text": [
      "Epoch [1/20]:  20%|██        | 20/98 [00:08<00:32,  2.37it/s, loss=0.582]\n"
     ]
    },
    {
     "ename": "KeyboardInterrupt",
     "evalue": "",
     "output_type": "error",
     "traceback": [
      "\u001b[0;31m---------------------------------------------------------------------------\u001b[0m",
      "\u001b[0;31mKeyboardInterrupt\u001b[0m                         Traceback (most recent call last)",
      "Cell \u001b[0;32mIn[46], line 26\u001b[0m\n\u001b[1;32m     24\u001b[0m \u001b[38;5;66;03m# Backward pass\u001b[39;00m\n\u001b[1;32m     25\u001b[0m optimizer\u001b[38;5;241m.\u001b[39mzero_grad()\n\u001b[0;32m---> 26\u001b[0m \u001b[43mloss\u001b[49m\u001b[38;5;241;43m.\u001b[39;49m\u001b[43mbackward\u001b[49m\u001b[43m(\u001b[49m\u001b[43m)\u001b[49m\n\u001b[1;32m     28\u001b[0m \u001b[38;5;66;03m# Gradient descent step\u001b[39;00m\n\u001b[1;32m     29\u001b[0m optimizer\u001b[38;5;241m.\u001b[39mstep()\n",
      "File \u001b[0;32m/opt/anaconda3/lib/python3.10/site-packages/torch/_tensor.py:521\u001b[0m, in \u001b[0;36mTensor.backward\u001b[0;34m(self, gradient, retain_graph, create_graph, inputs)\u001b[0m\n\u001b[1;32m    511\u001b[0m \u001b[38;5;28;01mif\u001b[39;00m has_torch_function_unary(\u001b[38;5;28mself\u001b[39m):\n\u001b[1;32m    512\u001b[0m     \u001b[38;5;28;01mreturn\u001b[39;00m handle_torch_function(\n\u001b[1;32m    513\u001b[0m         Tensor\u001b[38;5;241m.\u001b[39mbackward,\n\u001b[1;32m    514\u001b[0m         (\u001b[38;5;28mself\u001b[39m,),\n\u001b[0;32m   (...)\u001b[0m\n\u001b[1;32m    519\u001b[0m         inputs\u001b[38;5;241m=\u001b[39minputs,\n\u001b[1;32m    520\u001b[0m     )\n\u001b[0;32m--> 521\u001b[0m \u001b[43mtorch\u001b[49m\u001b[38;5;241;43m.\u001b[39;49m\u001b[43mautograd\u001b[49m\u001b[38;5;241;43m.\u001b[39;49m\u001b[43mbackward\u001b[49m\u001b[43m(\u001b[49m\n\u001b[1;32m    522\u001b[0m \u001b[43m    \u001b[49m\u001b[38;5;28;43mself\u001b[39;49m\u001b[43m,\u001b[49m\u001b[43m \u001b[49m\u001b[43mgradient\u001b[49m\u001b[43m,\u001b[49m\u001b[43m \u001b[49m\u001b[43mretain_graph\u001b[49m\u001b[43m,\u001b[49m\u001b[43m \u001b[49m\u001b[43mcreate_graph\u001b[49m\u001b[43m,\u001b[49m\u001b[43m \u001b[49m\u001b[43minputs\u001b[49m\u001b[38;5;241;43m=\u001b[39;49m\u001b[43minputs\u001b[49m\n\u001b[1;32m    523\u001b[0m \u001b[43m\u001b[49m\u001b[43m)\u001b[49m\n",
      "File \u001b[0;32m/opt/anaconda3/lib/python3.10/site-packages/torch/autograd/__init__.py:289\u001b[0m, in \u001b[0;36mbackward\u001b[0;34m(tensors, grad_tensors, retain_graph, create_graph, grad_variables, inputs)\u001b[0m\n\u001b[1;32m    284\u001b[0m     retain_graph \u001b[38;5;241m=\u001b[39m create_graph\n\u001b[1;32m    286\u001b[0m \u001b[38;5;66;03m# The reason we repeat the same comment below is that\u001b[39;00m\n\u001b[1;32m    287\u001b[0m \u001b[38;5;66;03m# some Python versions print out the first line of a multi-line function\u001b[39;00m\n\u001b[1;32m    288\u001b[0m \u001b[38;5;66;03m# calls in the traceback and some print out the last line\u001b[39;00m\n\u001b[0;32m--> 289\u001b[0m \u001b[43m_engine_run_backward\u001b[49m\u001b[43m(\u001b[49m\n\u001b[1;32m    290\u001b[0m \u001b[43m    \u001b[49m\u001b[43mtensors\u001b[49m\u001b[43m,\u001b[49m\n\u001b[1;32m    291\u001b[0m \u001b[43m    \u001b[49m\u001b[43mgrad_tensors_\u001b[49m\u001b[43m,\u001b[49m\n\u001b[1;32m    292\u001b[0m \u001b[43m    \u001b[49m\u001b[43mretain_graph\u001b[49m\u001b[43m,\u001b[49m\n\u001b[1;32m    293\u001b[0m \u001b[43m    \u001b[49m\u001b[43mcreate_graph\u001b[49m\u001b[43m,\u001b[49m\n\u001b[1;32m    294\u001b[0m \u001b[43m    \u001b[49m\u001b[43minputs\u001b[49m\u001b[43m,\u001b[49m\n\u001b[1;32m    295\u001b[0m \u001b[43m    \u001b[49m\u001b[43mallow_unreachable\u001b[49m\u001b[38;5;241;43m=\u001b[39;49m\u001b[38;5;28;43;01mTrue\u001b[39;49;00m\u001b[43m,\u001b[49m\n\u001b[1;32m    296\u001b[0m \u001b[43m    \u001b[49m\u001b[43maccumulate_grad\u001b[49m\u001b[38;5;241;43m=\u001b[39;49m\u001b[38;5;28;43;01mTrue\u001b[39;49;00m\u001b[43m,\u001b[49m\n\u001b[1;32m    297\u001b[0m \u001b[43m\u001b[49m\u001b[43m)\u001b[49m\n",
      "File \u001b[0;32m/opt/anaconda3/lib/python3.10/site-packages/torch/autograd/graph.py:769\u001b[0m, in \u001b[0;36m_engine_run_backward\u001b[0;34m(t_outputs, *args, **kwargs)\u001b[0m\n\u001b[1;32m    767\u001b[0m     unregister_hooks \u001b[38;5;241m=\u001b[39m _register_logging_hooks_on_whole_graph(t_outputs)\n\u001b[1;32m    768\u001b[0m \u001b[38;5;28;01mtry\u001b[39;00m:\n\u001b[0;32m--> 769\u001b[0m     \u001b[38;5;28;01mreturn\u001b[39;00m \u001b[43mVariable\u001b[49m\u001b[38;5;241;43m.\u001b[39;49m\u001b[43m_execution_engine\u001b[49m\u001b[38;5;241;43m.\u001b[39;49m\u001b[43mrun_backward\u001b[49m\u001b[43m(\u001b[49m\u001b[43m  \u001b[49m\u001b[38;5;66;43;03m# Calls into the C++ engine to run the backward pass\u001b[39;49;00m\n\u001b[1;32m    770\u001b[0m \u001b[43m        \u001b[49m\u001b[43mt_outputs\u001b[49m\u001b[43m,\u001b[49m\u001b[43m \u001b[49m\u001b[38;5;241;43m*\u001b[39;49m\u001b[43margs\u001b[49m\u001b[43m,\u001b[49m\u001b[43m \u001b[49m\u001b[38;5;241;43m*\u001b[39;49m\u001b[38;5;241;43m*\u001b[39;49m\u001b[43mkwargs\u001b[49m\n\u001b[1;32m    771\u001b[0m \u001b[43m    \u001b[49m\u001b[43m)\u001b[49m  \u001b[38;5;66;03m# Calls into the C++ engine to run the backward pass\u001b[39;00m\n\u001b[1;32m    772\u001b[0m \u001b[38;5;28;01mfinally\u001b[39;00m:\n\u001b[1;32m    773\u001b[0m     \u001b[38;5;28;01mif\u001b[39;00m attach_logging_hooks:\n",
      "\u001b[0;31mKeyboardInterrupt\u001b[0m: "
     ]
    }
   ],
   "source": [
    "# Placeholder for storing losses for each epoch\n",
    "losses = []\n",
    "losses_val = []\n",
    "\n",
    "# Training the model\n",
    "for epoch in range(num_epochs):\n",
    "\n",
    "    ######### TRAINING ##########\n",
    "    model.train()\n",
    "    running_loss = 0  # To track loss for this epoch\n",
    "\n",
    "    # Using tqdm for the progress bar\n",
    "    loop = tqdm(enumerate(train_loader), total=len(train_loader), leave=True)\n",
    "    \n",
    "    for batch_idx, (data, targets) in loop:\n",
    "        # Get data to cuda if possible\n",
    "        data = data.to(device=device)\n",
    "        targets = targets.to(device=device)\n",
    "\n",
    "        # Forward pass\n",
    "        scores = model(data)\n",
    "        loss = criterion(scores, targets)\n",
    "\n",
    "        # Backward pass\n",
    "        optimizer.zero_grad()\n",
    "        loss.backward()\n",
    "\n",
    "        # Gradient descent step\n",
    "        optimizer.step()\n",
    "\n",
    "        # Accumulate loss\n",
    "        running_loss += loss.item()\n",
    "\n",
    "        # Update progress bar with loss and epoch information\n",
    "        loop.set_description(f\"Epoch [{epoch+1}/{num_epochs}]\")\n",
    "        loop.set_postfix(loss=loss.item())\n",
    "\n",
    "    # Calculate average loss for the epoch\n",
    "    avg_loss = running_loss / len(train_loader)\n",
    "    losses.append(avg_loss)\n",
    "\n",
    "    #scheduler \n",
    "    scheduler.step(avg_loss)\n",
    "\n",
    "    # Print loss for this epoch\n",
    "    tqdm.write(f\"Epoch [{epoch+1}/{num_epochs}], Average Loss: {avg_loss:.4f}\")\n",
    "\n",
    "    ####### VALIDATION ########\n",
    "    model.eval()\n",
    "    val_loss = 0\n",
    "\n",
    "    with torch.no_grad():\n",
    "        for data, targets in val_loader:\n",
    "            data = data.to(device=device)\n",
    "            targets = targets.to(device=device)\n",
    "\n",
    "            scores = model(data)\n",
    "            loss = criterion(scores, targets)\n",
    "            val_loss += loss.item()\n",
    "        # Calculate average loss for the epoch\n",
    "        avg_val_loss = val_loss / len(val_loader)\n",
    "        losses_val.append(avg_val_loss)\n",
    "        print(f\"Validation Loss: {avg_val_loss:.4f}\")\n",
    "        # if avg val_loss is better than the one before, save the model\n",
    "        if epoch == 0:\n",
    "            # create directory if not exist\n",
    "            os.makedirs(\"checkpoint\", exist_ok=True)\n",
    "            best_loss = avg_val_loss\n",
    "            torch.save(model.state_dict(), \"checkpoint/trained_model.pth\")\n",
    "        elif avg_val_loss < best_loss:\n",
    "            best_loss = avg_val_loss\n",
    "            torch.save(model.state_dict(), \"checkpoint/trained_model.pth\")\n",
    "\n"
   ]
  },
  {
   "cell_type": "code",
   "execution_count": 45,
   "metadata": {},
   "outputs": [
    {
     "name": "stdout",
     "output_type": "stream",
     "text": [
      "Best validation loss: 0.5425\n"
     ]
    },
    {
     "ename": "ValueError",
     "evalue": "x and y must have same first dimension, but have shapes (20,) and (1,)",
     "output_type": "error",
     "traceback": [
      "\u001b[0;31m---------------------------------------------------------------------------\u001b[0m",
      "\u001b[0;31mValueError\u001b[0m                                Traceback (most recent call last)",
      "Cell \u001b[0;32mIn[45], line 7\u001b[0m\n\u001b[1;32m      4\u001b[0m index_best \u001b[38;5;241m=\u001b[39m losses_val\u001b[38;5;241m.\u001b[39mindex(best_loss)\n\u001b[1;32m      6\u001b[0m plt\u001b[38;5;241m.\u001b[39mfigure(figsize\u001b[38;5;241m=\u001b[39m(\u001b[38;5;241m15\u001b[39m, \u001b[38;5;241m5\u001b[39m))\n\u001b[0;32m----> 7\u001b[0m \u001b[43mplt\u001b[49m\u001b[38;5;241;43m.\u001b[39;49m\u001b[43mplot\u001b[49m\u001b[43m(\u001b[49m\u001b[38;5;28;43mrange\u001b[39;49m\u001b[43m(\u001b[49m\u001b[38;5;241;43m1\u001b[39;49m\u001b[43m,\u001b[49m\u001b[43mnum_epochs\u001b[49m\u001b[38;5;241;43m+\u001b[39;49m\u001b[38;5;241;43m1\u001b[39;49m\u001b[43m)\u001b[49m\u001b[43m,\u001b[49m\u001b[43m \u001b[49m\u001b[43mlosses\u001b[49m\u001b[43m,\u001b[49m\u001b[43m \u001b[49m\u001b[43mlabel\u001b[49m\u001b[38;5;241;43m=\u001b[39;49m\u001b[38;5;124;43m\"\u001b[39;49m\u001b[38;5;124;43mTrain Loss\u001b[39;49m\u001b[38;5;124;43m\"\u001b[39;49m\u001b[43m)\u001b[49m\n\u001b[1;32m      8\u001b[0m plt\u001b[38;5;241m.\u001b[39mplot(\u001b[38;5;28mrange\u001b[39m(\u001b[38;5;241m1\u001b[39m,num_epochs\u001b[38;5;241m+\u001b[39m\u001b[38;5;241m1\u001b[39m), losses_val, label\u001b[38;5;241m=\u001b[39m\u001b[38;5;124m\"\u001b[39m\u001b[38;5;124mVal Loss\u001b[39m\u001b[38;5;124m\"\u001b[39m)\n\u001b[1;32m      9\u001b[0m plt\u001b[38;5;241m.\u001b[39maxvline(index_best\u001b[38;5;241m+\u001b[39m\u001b[38;5;241m1\u001b[39m, color\u001b[38;5;241m=\u001b[39m\u001b[38;5;124m'\u001b[39m\u001b[38;5;124mr\u001b[39m\u001b[38;5;124m'\u001b[39m, linestyle\u001b[38;5;241m=\u001b[39m\u001b[38;5;124m'\u001b[39m\u001b[38;5;124m--\u001b[39m\u001b[38;5;124m'\u001b[39m, label\u001b[38;5;241m=\u001b[39m\u001b[38;5;124m\"\u001b[39m\u001b[38;5;124mBest Val Loss\u001b[39m\u001b[38;5;124m\"\u001b[39m)\n",
      "File \u001b[0;32m/opt/anaconda3/lib/python3.10/site-packages/matplotlib/pyplot.py:2812\u001b[0m, in \u001b[0;36mplot\u001b[0;34m(scalex, scaley, data, *args, **kwargs)\u001b[0m\n\u001b[1;32m   2810\u001b[0m \u001b[38;5;129m@_copy_docstring_and_deprecators\u001b[39m(Axes\u001b[38;5;241m.\u001b[39mplot)\n\u001b[1;32m   2811\u001b[0m \u001b[38;5;28;01mdef\u001b[39;00m \u001b[38;5;21mplot\u001b[39m(\u001b[38;5;241m*\u001b[39margs, scalex\u001b[38;5;241m=\u001b[39m\u001b[38;5;28;01mTrue\u001b[39;00m, scaley\u001b[38;5;241m=\u001b[39m\u001b[38;5;28;01mTrue\u001b[39;00m, data\u001b[38;5;241m=\u001b[39m\u001b[38;5;28;01mNone\u001b[39;00m, \u001b[38;5;241m*\u001b[39m\u001b[38;5;241m*\u001b[39mkwargs):\n\u001b[0;32m-> 2812\u001b[0m     \u001b[38;5;28;01mreturn\u001b[39;00m \u001b[43mgca\u001b[49m\u001b[43m(\u001b[49m\u001b[43m)\u001b[49m\u001b[38;5;241;43m.\u001b[39;49m\u001b[43mplot\u001b[49m\u001b[43m(\u001b[49m\n\u001b[1;32m   2813\u001b[0m \u001b[43m        \u001b[49m\u001b[38;5;241;43m*\u001b[39;49m\u001b[43margs\u001b[49m\u001b[43m,\u001b[49m\u001b[43m \u001b[49m\u001b[43mscalex\u001b[49m\u001b[38;5;241;43m=\u001b[39;49m\u001b[43mscalex\u001b[49m\u001b[43m,\u001b[49m\u001b[43m \u001b[49m\u001b[43mscaley\u001b[49m\u001b[38;5;241;43m=\u001b[39;49m\u001b[43mscaley\u001b[49m\u001b[43m,\u001b[49m\n\u001b[1;32m   2814\u001b[0m \u001b[43m        \u001b[49m\u001b[38;5;241;43m*\u001b[39;49m\u001b[38;5;241;43m*\u001b[39;49m\u001b[43m(\u001b[49m\u001b[43m{\u001b[49m\u001b[38;5;124;43m\"\u001b[39;49m\u001b[38;5;124;43mdata\u001b[39;49m\u001b[38;5;124;43m\"\u001b[39;49m\u001b[43m:\u001b[49m\u001b[43m \u001b[49m\u001b[43mdata\u001b[49m\u001b[43m}\u001b[49m\u001b[43m \u001b[49m\u001b[38;5;28;43;01mif\u001b[39;49;00m\u001b[43m \u001b[49m\u001b[43mdata\u001b[49m\u001b[43m \u001b[49m\u001b[38;5;129;43;01mis\u001b[39;49;00m\u001b[43m \u001b[49m\u001b[38;5;129;43;01mnot\u001b[39;49;00m\u001b[43m \u001b[49m\u001b[38;5;28;43;01mNone\u001b[39;49;00m\u001b[43m \u001b[49m\u001b[38;5;28;43;01melse\u001b[39;49;00m\u001b[43m \u001b[49m\u001b[43m{\u001b[49m\u001b[43m}\u001b[49m\u001b[43m)\u001b[49m\u001b[43m,\u001b[49m\u001b[43m \u001b[49m\u001b[38;5;241;43m*\u001b[39;49m\u001b[38;5;241;43m*\u001b[39;49m\u001b[43mkwargs\u001b[49m\u001b[43m)\u001b[49m\n",
      "File \u001b[0;32m/opt/anaconda3/lib/python3.10/site-packages/matplotlib/axes/_axes.py:1688\u001b[0m, in \u001b[0;36mAxes.plot\u001b[0;34m(self, scalex, scaley, data, *args, **kwargs)\u001b[0m\n\u001b[1;32m   1445\u001b[0m \u001b[38;5;250m\u001b[39m\u001b[38;5;124;03m\"\"\"\u001b[39;00m\n\u001b[1;32m   1446\u001b[0m \u001b[38;5;124;03mPlot y versus x as lines and/or markers.\u001b[39;00m\n\u001b[1;32m   1447\u001b[0m \n\u001b[0;32m   (...)\u001b[0m\n\u001b[1;32m   1685\u001b[0m \u001b[38;5;124;03m(``'green'``) or hex strings (``'#008000'``).\u001b[39;00m\n\u001b[1;32m   1686\u001b[0m \u001b[38;5;124;03m\"\"\"\u001b[39;00m\n\u001b[1;32m   1687\u001b[0m kwargs \u001b[38;5;241m=\u001b[39m cbook\u001b[38;5;241m.\u001b[39mnormalize_kwargs(kwargs, mlines\u001b[38;5;241m.\u001b[39mLine2D)\n\u001b[0;32m-> 1688\u001b[0m lines \u001b[38;5;241m=\u001b[39m [\u001b[38;5;241m*\u001b[39m\u001b[38;5;28mself\u001b[39m\u001b[38;5;241m.\u001b[39m_get_lines(\u001b[38;5;241m*\u001b[39margs, data\u001b[38;5;241m=\u001b[39mdata, \u001b[38;5;241m*\u001b[39m\u001b[38;5;241m*\u001b[39mkwargs)]\n\u001b[1;32m   1689\u001b[0m \u001b[38;5;28;01mfor\u001b[39;00m line \u001b[38;5;129;01min\u001b[39;00m lines:\n\u001b[1;32m   1690\u001b[0m     \u001b[38;5;28mself\u001b[39m\u001b[38;5;241m.\u001b[39madd_line(line)\n",
      "File \u001b[0;32m/opt/anaconda3/lib/python3.10/site-packages/matplotlib/axes/_base.py:311\u001b[0m, in \u001b[0;36m_process_plot_var_args.__call__\u001b[0;34m(self, data, *args, **kwargs)\u001b[0m\n\u001b[1;32m    309\u001b[0m     this \u001b[38;5;241m+\u001b[39m\u001b[38;5;241m=\u001b[39m args[\u001b[38;5;241m0\u001b[39m],\n\u001b[1;32m    310\u001b[0m     args \u001b[38;5;241m=\u001b[39m args[\u001b[38;5;241m1\u001b[39m:]\n\u001b[0;32m--> 311\u001b[0m \u001b[38;5;28;01myield from\u001b[39;00m \u001b[38;5;28;43mself\u001b[39;49m\u001b[38;5;241;43m.\u001b[39;49m\u001b[43m_plot_args\u001b[49m\u001b[43m(\u001b[49m\n\u001b[1;32m    312\u001b[0m \u001b[43m    \u001b[49m\u001b[43mthis\u001b[49m\u001b[43m,\u001b[49m\u001b[43m \u001b[49m\u001b[43mkwargs\u001b[49m\u001b[43m,\u001b[49m\u001b[43m \u001b[49m\u001b[43mambiguous_fmt_datakey\u001b[49m\u001b[38;5;241;43m=\u001b[39;49m\u001b[43mambiguous_fmt_datakey\u001b[49m\u001b[43m)\u001b[49m\n",
      "File \u001b[0;32m/opt/anaconda3/lib/python3.10/site-packages/matplotlib/axes/_base.py:504\u001b[0m, in \u001b[0;36m_process_plot_var_args._plot_args\u001b[0;34m(self, tup, kwargs, return_kwargs, ambiguous_fmt_datakey)\u001b[0m\n\u001b[1;32m    501\u001b[0m     \u001b[38;5;28mself\u001b[39m\u001b[38;5;241m.\u001b[39maxes\u001b[38;5;241m.\u001b[39myaxis\u001b[38;5;241m.\u001b[39mupdate_units(y)\n\u001b[1;32m    503\u001b[0m \u001b[38;5;28;01mif\u001b[39;00m x\u001b[38;5;241m.\u001b[39mshape[\u001b[38;5;241m0\u001b[39m] \u001b[38;5;241m!=\u001b[39m y\u001b[38;5;241m.\u001b[39mshape[\u001b[38;5;241m0\u001b[39m]:\n\u001b[0;32m--> 504\u001b[0m     \u001b[38;5;28;01mraise\u001b[39;00m \u001b[38;5;167;01mValueError\u001b[39;00m(\u001b[38;5;124mf\u001b[39m\u001b[38;5;124m\"\u001b[39m\u001b[38;5;124mx and y must have same first dimension, but \u001b[39m\u001b[38;5;124m\"\u001b[39m\n\u001b[1;32m    505\u001b[0m                      \u001b[38;5;124mf\u001b[39m\u001b[38;5;124m\"\u001b[39m\u001b[38;5;124mhave shapes \u001b[39m\u001b[38;5;132;01m{\u001b[39;00mx\u001b[38;5;241m.\u001b[39mshape\u001b[38;5;132;01m}\u001b[39;00m\u001b[38;5;124m and \u001b[39m\u001b[38;5;132;01m{\u001b[39;00my\u001b[38;5;241m.\u001b[39mshape\u001b[38;5;132;01m}\u001b[39;00m\u001b[38;5;124m\"\u001b[39m)\n\u001b[1;32m    506\u001b[0m \u001b[38;5;28;01mif\u001b[39;00m x\u001b[38;5;241m.\u001b[39mndim \u001b[38;5;241m>\u001b[39m \u001b[38;5;241m2\u001b[39m \u001b[38;5;129;01mor\u001b[39;00m y\u001b[38;5;241m.\u001b[39mndim \u001b[38;5;241m>\u001b[39m \u001b[38;5;241m2\u001b[39m:\n\u001b[1;32m    507\u001b[0m     \u001b[38;5;28;01mraise\u001b[39;00m \u001b[38;5;167;01mValueError\u001b[39;00m(\u001b[38;5;124mf\u001b[39m\u001b[38;5;124m\"\u001b[39m\u001b[38;5;124mx and y can be no greater than 2D, but have \u001b[39m\u001b[38;5;124m\"\u001b[39m\n\u001b[1;32m    508\u001b[0m                      \u001b[38;5;124mf\u001b[39m\u001b[38;5;124m\"\u001b[39m\u001b[38;5;124mshapes \u001b[39m\u001b[38;5;132;01m{\u001b[39;00mx\u001b[38;5;241m.\u001b[39mshape\u001b[38;5;132;01m}\u001b[39;00m\u001b[38;5;124m and \u001b[39m\u001b[38;5;132;01m{\u001b[39;00my\u001b[38;5;241m.\u001b[39mshape\u001b[38;5;132;01m}\u001b[39;00m\u001b[38;5;124m\"\u001b[39m)\n",
      "\u001b[0;31mValueError\u001b[0m: x and y must have same first dimension, but have shapes (20,) and (1,)"
     ]
    },
    {
     "data": {
      "image/png": "[encoded data removed]",
      "text/plain": [
       "<Figure size 1500x500 with 1 Axes>"
      ]
     },
     "metadata": {},
     "output_type": "display_data"
    }
   ],
   "source": [
    "# Plot the losses after training\n",
    "# epoch of best validation loss \n",
    "print(f\"Best validation loss: {best_loss:.4f}\")\n",
    "index_best = losses_val.index(best_loss)\n",
    "\n",
    "plt.figure(figsize=(15, 5))\n",
    "plt.plot(range(1,num_epochs+1), losses, label=\"Train Loss\")\n",
    "plt.plot(range(1,num_epochs+1), losses_val, label=\"Val Loss\")\n",
    "plt.axvline(index_best+1, color='r', linestyle='--', label=\"Best Val Loss\")\n",
    "plt.legend()\n",
    "plt.title(\"Loss vs Epochs\")\n",
    "plt.xlabel(\"Epochs\")\n",
    "plt.ylabel(\"Loss\")\n",
    "plt.grid()\n",
    "plt.show()"
   ]
  },
  {
   "cell_type": "markdown",
   "metadata": {},
   "source": [
    "#### Your Turn (1 point)\n",
    "\n",
    "**Question**\n",
    "\n",
    "Q: *Based on what you've learned in the lectures and by examining the image above, identify the problems with this plot and explain how to fix them.*\n",
    "\n",
    "A: One problem is that validation loss oscillates while training loss decreases, this means that the model performs good on seen data but poorly on new data, thus is overfitting. We could apply stronger regularization, decrease learning rate, use techniques like data augmentation or gather more data.\n",
    "\n",
    "Another thing we spotted is that the model reaches a minimum at around epoch 12, which is a good trade off between train vs validation loss and number of epochs, so another improvement would be adding an early stopping approach such as stopping when loss doesn't improve in the next couple of epochs"
   ]
  },
  {
   "cell_type": "markdown",
   "metadata": {},
   "source": [
    "### 1.5 Evaluation\n",
    "\n",
    "Now, let's evaluate the performances of our model"
   ]
  },
  {
   "cell_type": "code",
   "execution_count": 19,
   "metadata": {},
   "outputs": [],
   "source": [
    "# accuracy \n",
    "def accuracy (model, loader):\n",
    "    '''\n",
    "    Function to calculate the accuracy of the model on the test set\n",
    "    '''\n",
    "    correct = 0\n",
    "    total = 0\n",
    "    for data, targets in loader:\n",
    "        data = data.to(device=device)\n",
    "        targets = targets.to(device=device)\n",
    "        scores = model(data)\n",
    "        _, predictions = scores.max(1)\n",
    "        correct += (predictions == targets).sum()\n",
    "        total += targets.shape[0]\n",
    "    return correct / total"
   ]
  },
  {
   "cell_type": "code",
   "execution_count": 20,
   "metadata": {},
   "outputs": [
    {
     "name": "stderr",
     "output_type": "stream",
     "text": [
      "/var/folders/g1/_jmd0tb55d58p50yyylwr0_00000gn/T/ipykernel_75870/4085122296.py:3: FutureWarning: You are using `torch.load` with `weights_only=False` (the current default value), which uses the default pickle module implicitly. It is possible to construct malicious pickle data which will execute arbitrary code during unpickling (See https://github.com/pytorch/pytorch/blob/main/SECURITY.md#untrusted-models for more details). In a future release, the default value for `weights_only` will be flipped to `True`. This limits the functions that could be executed during unpickling. Arbitrary objects will no longer be allowed to be loaded via this mode unless they are explicitly allowlisted by the user via `torch.serialization.add_safe_globals`. We recommend you start setting `weights_only=True` for any use case where you don't have full control of the loaded file. Please open an issue on GitHub for any issues related to this experimental feature.\n",
      "  model.load_state_dict(torch.load('checkpoint/trained_model.pth'))\n"
     ]
    },
    {
     "name": "stdout",
     "output_type": "stream",
     "text": [
      "Your Model Train Accuracy : 69.6880\n",
      "Your Model Test Accuracy : 67.6375\n"
     ]
    }
   ],
   "source": [
    "# your model \n",
    "model = create_model()\n",
    "model.load_state_dict(torch.load('checkpoint/trained_model.pth'))\n",
    "model.eval()\n",
    "model.to(device)\n",
    "\n",
    "# Calculate accuracy on the train and test set \n",
    "train_accuracy = accuracy(model, train_loader)\n",
    "test_accuracy = accuracy(model, test_loader)\n",
    "\n",
    "print(f\"Your Model Train Accuracy : {100* train_accuracy:.4f}\")\n",
    "print(f\"Your Model Test Accuracy : {100* test_accuracy:.4f}\")"
   ]
  },
  {
   "cell_type": "markdown",
   "metadata": {},
   "source": [
    "To avoid training for too many epochs, here it is a checkpoint you can use for the trained model."
   ]
  },
  {
   "cell_type": "code",
   "execution_count": 21,
   "metadata": {},
   "outputs": [
    {
     "name": "stderr",
     "output_type": "stream",
     "text": [
      "/var/folders/g1/_jmd0tb55d58p50yyylwr0_00000gn/T/ipykernel_75870/2693882839.py:2: FutureWarning: You are using `torch.load` with `weights_only=False` (the current default value), which uses the default pickle module implicitly. It is possible to construct malicious pickle data which will execute arbitrary code during unpickling (See https://github.com/pytorch/pytorch/blob/main/SECURITY.md#untrusted-models for more details). In a future release, the default value for `weights_only` will be flipped to `True`. This limits the functions that could be executed during unpickling. Arbitrary objects will no longer be allowed to be loaded via this mode unless they are explicitly allowlisted by the user via `torch.serialization.add_safe_globals`. We recommend you start setting `weights_only=True` for any use case where you don't have full control of the loaded file. Please open an issue on GitHub for any issues related to this experimental feature.\n",
      "  model.load_state_dict(torch.load(\"checkpoint/best_model.pth\", map_location=torch.device('cpu')))\n"
     ]
    },
    {
     "name": "stdout",
     "output_type": "stream",
     "text": [
      "Train accuracy: 86.3800\n",
      "Test Accuracy: 80.9000\n"
     ]
    }
   ],
   "source": [
    "model = create_model()\n",
    "model.load_state_dict(torch.load(\"checkpoint/best_model.pth\", map_location=torch.device('cpu')))\n",
    "model.eval()\n",
    "model.to(device)\n",
    "\n",
    "# Calculate the accuracy on the train and test set\n",
    "train_accuracy = accuracy(model, train_loader)\n",
    "test_accuracy = accuracy(model, test_loader)\n",
    "\n",
    "print(f\"Train accuracy: {100* train_accuracy:.4f}\")\n",
    "print(f\"Test Accuracy: {100* test_accuracy:.4f}\")"
   ]
  },
  {
   "cell_type": "markdown",
   "metadata": {},
   "source": [
    "# Section 2: Unlearning "
   ]
  },
  {
   "cell_type": "markdown",
   "metadata": {},
   "source": [
    "In the context of machine learning, unlearning refers to the process of modifying a trained model so that it forgets specific pieces of information without losing the general performance. This is particularly important in situations where data privacy is a concern, such as when sensitive information is involved, or when a model has learned from outdated or incorrect data. In this scenario, \n",
    "you may want to unlearn an entire class of data, a specific instance within that class, or even a particular concept that the model has learned. \n",
    "\n",
    "**Why is Unlearning Important?**\n",
    "\n",
    "Let’s say you have trained a machine learning model to recognize different types of animals based on a dataset containing images. Now, suppose that this dataset includes images of a particular cat breed that was later found to be misclassified or problematic. You might need to remove that specific information from the model to ensure it doesn't make incorrect predictions in the future.\n",
    "\n",
    "Additionally, with privacy laws like GDPR (General Data Protection Regulation), individuals have the right to request that their personal data be removed from a model. If a model has been trained on this data, we need a way to unlearn it.\n",
    "\n",
    "Here, our task will be to unlearn the class of Airplanes in CIFAR-10 Dataset"
   ]
  },
  {
   "cell_type": "markdown",
   "metadata": {},
   "source": [
    "### Unlearning by Fine-Tuning \n",
    "\n",
    "The Unlearning by Fine-Tuning strategy is a technique used to remove the influence of specific data points from a trained machine learning model while preserving its performance on other, relevant data. \n",
    "Here’s a detailed explanation of how this strategy works:\n",
    "\n",
    "#### 1. The Retain Set\n",
    "\n",
    "The retain set consists of all the data points that you want the model to remember or continue to learn from. This set excludes the data points you want the model to forget.\n",
    "\n",
    "####  2. Fine-Tuning Process\n",
    "\n",
    "To perform unlearning through this strategy, you follow these steps:\n",
    "\n",
    "- Identify and Remove the Data Points: First, identify the data points that you wish to unlearn and remove them from the training dataset.\n",
    "\n",
    "- Prepare the Retain and Forget Set: Create a new training dataset that contains only the retain set, those data points that should be kept in the model’s knowledge, and include the remaing data in the Forget Set.\n",
    "\n",
    "- Fine-Tuning on the Retain Set: Instead of retraining the model from scratch, you will fine-tune the existing model using the retain set. This involves using the retain set to continue training the model, typically with a lower learning rate to ensure that the model can adjust its parameters without drastically altering what it has already learned.\n",
    "\n",
    "#### 3. Benefits of this strategy\n",
    "\n",
    "- Efficiency: Fine-tuning on the retain set only is more efficient than retraining the model from scratch. It saves computational resources and time.\n",
    "\n",
    "- Maintained Performance: The model retains its ability to perform well on the general dataset, as it continues to learn from the valid data in the retain set.\n",
    "\n",
    "#### 4. Drawbacks of this strategy\n",
    "\n",
    "- Even if more efficient than retraining the model from scratch, you still need to do a fine tuning, that could be very expensive for large or foundational models. Even finding the best hyperparameters can be costly.\n",
    "\n",
    "- If you change samples or architecture to unlearn, you have to do the ad-hoc fine tuning again, it is not a *general* strategy."
   ]
  },
  {
   "cell_type": "markdown",
   "metadata": {},
   "source": [
    "### 2.1: Forget Airplanes"
   ]
  },
  {
   "cell_type": "markdown",
   "metadata": {},
   "source": [
    "#### Your Turn ( 1 Point)\n",
    "\n",
    "Generate the retain and forget datasets, keeping in mind that we want to forget the \"airplanes\" class. Afterward, create new instances of the loaders for training, validation, and testing. Make sure to use the torch.utils.data.Subset function."
   ]
  },
  {
   "cell_type": "code",
   "execution_count": 47,
   "metadata": {},
   "outputs": [],
   "source": [
    "#train\n",
    "'''\n",
    "Add your code below\n",
    "'''\n",
    "\n",
    "from torch.utils.data import Subset\n",
    "\n",
    "#in cifar-10 there are 10 classes, from 0 to 9. Airplanes corresponds to class 0\n",
    "retain_indices = [i for i, (_, label) in enumerate(train_dataset) if label != 0]\n",
    "forget_indices = [i for i, (_, label) in enumerate(train_dataset) if label == 0]\n",
    "\n",
    "retain_dataset = Subset(train_dataset, retain_indices)\n",
    "forget_dataset = Subset(train_dataset, forget_indices)\n",
    "retain_loader = DataLoader(retain_dataset, batch_size = batch_size, shuffle=True)\n",
    "forget_loader = DataLoader(forget_dataset, batch_size = batch_size, shuffle=True)"
   ]
  },
  {
   "cell_type": "code",
   "execution_count": 48,
   "metadata": {},
   "outputs": [],
   "source": [
    "#validation\n",
    "'''\n",
    "Add your code below\n",
    "'''\n",
    "\n",
    "retain_indices = [i for i, (_, label) in enumerate(val_dataset) if label != 0]\n",
    "forget_indices = [i for i, (_, label) in enumerate(val_dataset) if label == 0]\n",
    "\n",
    "retain_dataset_val = Subset(val_dataset, retain_indices)\n",
    "forget_dataset_val = Subset(val_dataset, forget_indices)\n",
    "retain_loader_val = DataLoader(retain_dataset_val, batch_size = batch_size, shuffle=False)\n",
    "forget_loader_val = DataLoader(forget_dataset_val, batch_size = batch_size, shuffle=False)"
   ]
  },
  {
   "cell_type": "code",
   "execution_count": 49,
   "metadata": {},
   "outputs": [],
   "source": [
    "#test \n",
    "'''\n",
    "Add your code below\n",
    "'''\n",
    "\n",
    "retain_indices = [i for i, (_, label) in enumerate(test_dataset) if label != 0]\n",
    "forget_indices = [i for i, (_, label) in enumerate(test_dataset) if label == 0]\n",
    "\n",
    "retain_dataset_test = Subset(test_dataset, retain_indices)\n",
    "forget_dataset_test = Subset(test_dataset, forget_indices)\n",
    "retain_loader_test = DataLoader(retain_dataset_test, batch_size = batch_size, shuffle=False)\n",
    "forget_loader_test = DataLoader(forget_dataset_test, batch_size = batch_size, shuffle=False)"
   ]
  },
  {
   "cell_type": "markdown",
   "metadata": {},
   "source": [
    "### 2.2: Training Loop"
   ]
  },
  {
   "cell_type": "code",
   "execution_count": 50,
   "metadata": {},
   "outputs": [],
   "source": [
    "def unlearning( model, retain_loader , validation, epochs = 5, criterion = criterion, optimizer = optimizer, scheduler = scheduler):\n",
    "    \"\"\"Unlearning by fine-tuning.\n",
    "\n",
    "    Fine-tuning is a very simple algorithm that trains using only\n",
    "    the retain set.\n",
    "\n",
    "    Args:\n",
    "      model : nn.Module.\n",
    "        pre-trained model to use as base of unlearning.\n",
    "      retain : torch.utils.data.DataLoader.\n",
    "        Dataset loader for access to the retain set. This is the subset\n",
    "        of the training set that we don't want to forget.\n",
    "      validation : torch.utils.data.DataLoader.\n",
    "        Dataset loader for access to the validation set. This method doesn't\n",
    "        make use of the validation set.\n",
    "    Returns:\n",
    "      model : updated model\n",
    "    \"\"\"\n",
    "    device = torch.device(\"cuda\" if torch.cuda.is_available() else \"cpu\")\n",
    "    model.to(device)\n",
    "    losses = []\n",
    "    losses_val = []\n",
    "   \n",
    "    for epoch in range(epochs):\n",
    "        model.train()\n",
    "        loss_epoch = 0\n",
    "        loop = tqdm(enumerate(retain_loader), total=len(retain_loader), leave=True)\n",
    "        for batch_idx, (inputs, targets) in loop:\n",
    "            inputs, targets = inputs.to(device), targets.to(device)\n",
    "            optimizer.zero_grad()\n",
    "            outputs = model(inputs)\n",
    "            loss = criterion(outputs, targets)\n",
    "            loss.backward()\n",
    "            optimizer.step()\n",
    "\n",
    "            #running loss\n",
    "            loss_epoch += loss.item()\n",
    "            # Update progress bar with loss and epoch information\n",
    "            loop.set_description(f\"Epoch [{epoch+1}/{epochs}]\")\n",
    "            loop.set_postfix(loss=loss.item())\n",
    "\n",
    "        #avg loss\n",
    "        avg_loss = loss_epoch / len(retain_loader )\n",
    "        losses.append(avg_loss)\n",
    "        #scheduler step\n",
    "        scheduler.step(avg_loss)\n",
    "        tqdm.write(f\"Epoch [{epoch+1}/{epochs}], Average Loss: {avg_loss:.4f}\")\n",
    "\n",
    "        # validation\n",
    "        loss_val = 0\n",
    "        model.eval()\n",
    "        with torch.no_grad():\n",
    "            for data, targets in retain_loader_val:\n",
    "                data = data.to(device=device)\n",
    "                targets = targets.to(device=device)\n",
    "\n",
    "                scores = model(data)\n",
    "                loss = criterion(scores, targets)\n",
    "                loss_val += loss.item()\n",
    "            # Calculate average loss for the epoch\n",
    "            avg_val_loss = loss_val / len(validation)\n",
    "            losses_val.append(avg_val_loss)\n",
    "            print(f\"Validation Loss: {avg_val_loss:.4f}\")\n",
    "            # if avg val_loss is better than the one before, save the model\n",
    "            if epoch == 0:\n",
    "                # create directory if not exist\n",
    "                os.makedirs(\"checkpoint\", exist_ok=True)\n",
    "                best_loss = avg_val_loss\n",
    "                torch.save(model.state_dict(), \"checkpoint/forget_model.pth\")\n",
    "            elif avg_val_loss < best_loss:\n",
    "                best_loss = avg_val_loss\n",
    "                torch.save(model.state_dict(), \"checkpoint/forget_model.pth\")\n",
    "        \n",
    "                \n",
    "    model.eval()\n",
    "    model.load_state_dict(torch.load(\"checkpoint/forget_model.pth\"))\n",
    "    return model, losses, losses_val"
   ]
  },
  {
   "cell_type": "code",
   "execution_count": 51,
   "metadata": {},
   "outputs": [
    {
     "name": "stderr",
     "output_type": "stream",
     "text": [
      "/var/folders/g1/_jmd0tb55d58p50yyylwr0_00000gn/T/ipykernel_75870/4088613819.py:4: FutureWarning: You are using `torch.load` with `weights_only=False` (the current default value), which uses the default pickle module implicitly. It is possible to construct malicious pickle data which will execute arbitrary code during unpickling (See https://github.com/pytorch/pytorch/blob/main/SECURITY.md#untrusted-models for more details). In a future release, the default value for `weights_only` will be flipped to `True`. This limits the functions that could be executed during unpickling. Arbitrary objects will no longer be allowed to be loaded via this mode unless they are explicitly allowlisted by the user via `torch.serialization.add_safe_globals`. We recommend you start setting `weights_only=True` for any use case where you don't have full control of the loaded file. Please open an issue on GitHub for any issues related to this experimental feature.\n",
      "  forget_model.load_state_dict(torch.load(\"checkpoint/best_model.pth\", map_location=torch.device('cpu')))\n",
      "/opt/anaconda3/lib/python3.10/site-packages/torch/optim/lr_scheduler.py:60: UserWarning: The verbose parameter is deprecated. Please use get_last_lr() to access the learning rate.\n",
      "  warnings.warn(\n",
      "Epoch [1/10]:  49%|████▉     | 43/88 [00:17<00:18,  2.46it/s, loss=0.5]  \n"
     ]
    },
    {
     "ename": "KeyboardInterrupt",
     "evalue": "",
     "output_type": "error",
     "traceback": [
      "\u001b[0;31m---------------------------------------------------------------------------\u001b[0m",
      "\u001b[0;31mKeyboardInterrupt\u001b[0m                         Traceback (most recent call last)",
      "Cell \u001b[0;32mIn[51], line 13\u001b[0m\n\u001b[1;32m     11\u001b[0m \u001b[38;5;66;03m# Unlearn the forget set\u001b[39;00m\n\u001b[1;32m     12\u001b[0m epochs \u001b[38;5;241m=\u001b[39m \u001b[38;5;241m10\u001b[39m\n\u001b[0;32m---> 13\u001b[0m forget_model, losses, losses_val \u001b[38;5;241m=\u001b[39m \u001b[43munlearning\u001b[49m\u001b[43m(\u001b[49m\u001b[43mforget_model\u001b[49m\u001b[43m,\u001b[49m\u001b[43m \u001b[49m\u001b[43mretain_loader\u001b[49m\u001b[43m,\u001b[49m\u001b[43m \u001b[49m\u001b[43mval_loader\u001b[49m\u001b[43m,\u001b[49m\u001b[43m \u001b[49m\u001b[43mepochs\u001b[49m\u001b[38;5;241;43m=\u001b[39;49m\u001b[43mepochs\u001b[49m\u001b[43m,\u001b[49m\u001b[43m \u001b[49m\u001b[43mcriterion\u001b[49m\u001b[38;5;241;43m=\u001b[39;49m\u001b[43mcriterion\u001b[49m\u001b[43m,\u001b[49m\u001b[43m \u001b[49m\u001b[43moptimizer\u001b[49m\u001b[38;5;241;43m=\u001b[39;49m\u001b[43moptimizer\u001b[49m\u001b[43m,\u001b[49m\u001b[43m \u001b[49m\u001b[43mscheduler\u001b[49m\u001b[38;5;241;43m=\u001b[39;49m\u001b[43mscheduler\u001b[49m\u001b[43m)\u001b[49m\n",
      "Cell \u001b[0;32mIn[50], line 31\u001b[0m, in \u001b[0;36munlearning\u001b[0;34m(model, retain_loader, validation, epochs, criterion, optimizer, scheduler)\u001b[0m\n\u001b[1;32m     29\u001b[0m inputs, targets \u001b[38;5;241m=\u001b[39m inputs\u001b[38;5;241m.\u001b[39mto(device), targets\u001b[38;5;241m.\u001b[39mto(device)\n\u001b[1;32m     30\u001b[0m optimizer\u001b[38;5;241m.\u001b[39mzero_grad()\n\u001b[0;32m---> 31\u001b[0m outputs \u001b[38;5;241m=\u001b[39m \u001b[43mmodel\u001b[49m\u001b[43m(\u001b[49m\u001b[43minputs\u001b[49m\u001b[43m)\u001b[49m\n\u001b[1;32m     32\u001b[0m loss \u001b[38;5;241m=\u001b[39m criterion(outputs, targets)\n\u001b[1;32m     33\u001b[0m loss\u001b[38;5;241m.\u001b[39mbackward()\n",
      "File \u001b[0;32m/opt/anaconda3/lib/python3.10/site-packages/torch/nn/modules/module.py:1553\u001b[0m, in \u001b[0;36mModule._wrapped_call_impl\u001b[0;34m(self, *args, **kwargs)\u001b[0m\n\u001b[1;32m   1551\u001b[0m     \u001b[38;5;28;01mreturn\u001b[39;00m \u001b[38;5;28mself\u001b[39m\u001b[38;5;241m.\u001b[39m_compiled_call_impl(\u001b[38;5;241m*\u001b[39margs, \u001b[38;5;241m*\u001b[39m\u001b[38;5;241m*\u001b[39mkwargs)  \u001b[38;5;66;03m# type: ignore[misc]\u001b[39;00m\n\u001b[1;32m   1552\u001b[0m \u001b[38;5;28;01melse\u001b[39;00m:\n\u001b[0;32m-> 1553\u001b[0m     \u001b[38;5;28;01mreturn\u001b[39;00m \u001b[38;5;28;43mself\u001b[39;49m\u001b[38;5;241;43m.\u001b[39;49m\u001b[43m_call_impl\u001b[49m\u001b[43m(\u001b[49m\u001b[38;5;241;43m*\u001b[39;49m\u001b[43margs\u001b[49m\u001b[43m,\u001b[49m\u001b[43m \u001b[49m\u001b[38;5;241;43m*\u001b[39;49m\u001b[38;5;241;43m*\u001b[39;49m\u001b[43mkwargs\u001b[49m\u001b[43m)\u001b[49m\n",
      "File \u001b[0;32m/opt/anaconda3/lib/python3.10/site-packages/torch/nn/modules/module.py:1562\u001b[0m, in \u001b[0;36mModule._call_impl\u001b[0;34m(self, *args, **kwargs)\u001b[0m\n\u001b[1;32m   1557\u001b[0m \u001b[38;5;66;03m# If we don't have any hooks, we want to skip the rest of the logic in\u001b[39;00m\n\u001b[1;32m   1558\u001b[0m \u001b[38;5;66;03m# this function, and just call forward.\u001b[39;00m\n\u001b[1;32m   1559\u001b[0m \u001b[38;5;28;01mif\u001b[39;00m \u001b[38;5;129;01mnot\u001b[39;00m (\u001b[38;5;28mself\u001b[39m\u001b[38;5;241m.\u001b[39m_backward_hooks \u001b[38;5;129;01mor\u001b[39;00m \u001b[38;5;28mself\u001b[39m\u001b[38;5;241m.\u001b[39m_backward_pre_hooks \u001b[38;5;129;01mor\u001b[39;00m \u001b[38;5;28mself\u001b[39m\u001b[38;5;241m.\u001b[39m_forward_hooks \u001b[38;5;129;01mor\u001b[39;00m \u001b[38;5;28mself\u001b[39m\u001b[38;5;241m.\u001b[39m_forward_pre_hooks\n\u001b[1;32m   1560\u001b[0m         \u001b[38;5;129;01mor\u001b[39;00m _global_backward_pre_hooks \u001b[38;5;129;01mor\u001b[39;00m _global_backward_hooks\n\u001b[1;32m   1561\u001b[0m         \u001b[38;5;129;01mor\u001b[39;00m _global_forward_hooks \u001b[38;5;129;01mor\u001b[39;00m _global_forward_pre_hooks):\n\u001b[0;32m-> 1562\u001b[0m     \u001b[38;5;28;01mreturn\u001b[39;00m \u001b[43mforward_call\u001b[49m\u001b[43m(\u001b[49m\u001b[38;5;241;43m*\u001b[39;49m\u001b[43margs\u001b[49m\u001b[43m,\u001b[49m\u001b[43m \u001b[49m\u001b[38;5;241;43m*\u001b[39;49m\u001b[38;5;241;43m*\u001b[39;49m\u001b[43mkwargs\u001b[49m\u001b[43m)\u001b[49m\n\u001b[1;32m   1564\u001b[0m \u001b[38;5;28;01mtry\u001b[39;00m:\n\u001b[1;32m   1565\u001b[0m     result \u001b[38;5;241m=\u001b[39m \u001b[38;5;28;01mNone\u001b[39;00m\n",
      "File \u001b[0;32m/opt/anaconda3/lib/python3.10/site-packages/torch/nn/modules/container.py:219\u001b[0m, in \u001b[0;36mSequential.forward\u001b[0;34m(self, input)\u001b[0m\n\u001b[1;32m    217\u001b[0m \u001b[38;5;28;01mdef\u001b[39;00m \u001b[38;5;21mforward\u001b[39m(\u001b[38;5;28mself\u001b[39m, \u001b[38;5;28minput\u001b[39m):\n\u001b[1;32m    218\u001b[0m     \u001b[38;5;28;01mfor\u001b[39;00m module \u001b[38;5;129;01min\u001b[39;00m \u001b[38;5;28mself\u001b[39m:\n\u001b[0;32m--> 219\u001b[0m         \u001b[38;5;28minput\u001b[39m \u001b[38;5;241m=\u001b[39m \u001b[43mmodule\u001b[49m\u001b[43m(\u001b[49m\u001b[38;5;28;43minput\u001b[39;49m\u001b[43m)\u001b[49m\n\u001b[1;32m    220\u001b[0m     \u001b[38;5;28;01mreturn\u001b[39;00m \u001b[38;5;28minput\u001b[39m\n",
      "File \u001b[0;32m/opt/anaconda3/lib/python3.10/site-packages/torch/nn/modules/module.py:1553\u001b[0m, in \u001b[0;36mModule._wrapped_call_impl\u001b[0;34m(self, *args, **kwargs)\u001b[0m\n\u001b[1;32m   1551\u001b[0m     \u001b[38;5;28;01mreturn\u001b[39;00m \u001b[38;5;28mself\u001b[39m\u001b[38;5;241m.\u001b[39m_compiled_call_impl(\u001b[38;5;241m*\u001b[39margs, \u001b[38;5;241m*\u001b[39m\u001b[38;5;241m*\u001b[39mkwargs)  \u001b[38;5;66;03m# type: ignore[misc]\u001b[39;00m\n\u001b[1;32m   1552\u001b[0m \u001b[38;5;28;01melse\u001b[39;00m:\n\u001b[0;32m-> 1553\u001b[0m     \u001b[38;5;28;01mreturn\u001b[39;00m \u001b[38;5;28;43mself\u001b[39;49m\u001b[38;5;241;43m.\u001b[39;49m\u001b[43m_call_impl\u001b[49m\u001b[43m(\u001b[49m\u001b[38;5;241;43m*\u001b[39;49m\u001b[43margs\u001b[49m\u001b[43m,\u001b[49m\u001b[43m \u001b[49m\u001b[38;5;241;43m*\u001b[39;49m\u001b[38;5;241;43m*\u001b[39;49m\u001b[43mkwargs\u001b[49m\u001b[43m)\u001b[49m\n",
      "File \u001b[0;32m/opt/anaconda3/lib/python3.10/site-packages/torch/nn/modules/module.py:1562\u001b[0m, in \u001b[0;36mModule._call_impl\u001b[0;34m(self, *args, **kwargs)\u001b[0m\n\u001b[1;32m   1557\u001b[0m \u001b[38;5;66;03m# If we don't have any hooks, we want to skip the rest of the logic in\u001b[39;00m\n\u001b[1;32m   1558\u001b[0m \u001b[38;5;66;03m# this function, and just call forward.\u001b[39;00m\n\u001b[1;32m   1559\u001b[0m \u001b[38;5;28;01mif\u001b[39;00m \u001b[38;5;129;01mnot\u001b[39;00m (\u001b[38;5;28mself\u001b[39m\u001b[38;5;241m.\u001b[39m_backward_hooks \u001b[38;5;129;01mor\u001b[39;00m \u001b[38;5;28mself\u001b[39m\u001b[38;5;241m.\u001b[39m_backward_pre_hooks \u001b[38;5;129;01mor\u001b[39;00m \u001b[38;5;28mself\u001b[39m\u001b[38;5;241m.\u001b[39m_forward_hooks \u001b[38;5;129;01mor\u001b[39;00m \u001b[38;5;28mself\u001b[39m\u001b[38;5;241m.\u001b[39m_forward_pre_hooks\n\u001b[1;32m   1560\u001b[0m         \u001b[38;5;129;01mor\u001b[39;00m _global_backward_pre_hooks \u001b[38;5;129;01mor\u001b[39;00m _global_backward_hooks\n\u001b[1;32m   1561\u001b[0m         \u001b[38;5;129;01mor\u001b[39;00m _global_forward_hooks \u001b[38;5;129;01mor\u001b[39;00m _global_forward_pre_hooks):\n\u001b[0;32m-> 1562\u001b[0m     \u001b[38;5;28;01mreturn\u001b[39;00m \u001b[43mforward_call\u001b[49m\u001b[43m(\u001b[49m\u001b[38;5;241;43m*\u001b[39;49m\u001b[43margs\u001b[49m\u001b[43m,\u001b[49m\u001b[43m \u001b[49m\u001b[38;5;241;43m*\u001b[39;49m\u001b[38;5;241;43m*\u001b[39;49m\u001b[43mkwargs\u001b[49m\u001b[43m)\u001b[49m\n\u001b[1;32m   1564\u001b[0m \u001b[38;5;28;01mtry\u001b[39;00m:\n\u001b[1;32m   1565\u001b[0m     result \u001b[38;5;241m=\u001b[39m \u001b[38;5;28;01mNone\u001b[39;00m\n",
      "File \u001b[0;32m/opt/anaconda3/lib/python3.10/site-packages/torch/nn/modules/conv.py:458\u001b[0m, in \u001b[0;36mConv2d.forward\u001b[0;34m(self, input)\u001b[0m\n\u001b[1;32m    457\u001b[0m \u001b[38;5;28;01mdef\u001b[39;00m \u001b[38;5;21mforward\u001b[39m(\u001b[38;5;28mself\u001b[39m, \u001b[38;5;28minput\u001b[39m: Tensor) \u001b[38;5;241m-\u001b[39m\u001b[38;5;241m>\u001b[39m Tensor:\n\u001b[0;32m--> 458\u001b[0m     \u001b[38;5;28;01mreturn\u001b[39;00m \u001b[38;5;28;43mself\u001b[39;49m\u001b[38;5;241;43m.\u001b[39;49m\u001b[43m_conv_forward\u001b[49m\u001b[43m(\u001b[49m\u001b[38;5;28;43minput\u001b[39;49m\u001b[43m,\u001b[49m\u001b[43m \u001b[49m\u001b[38;5;28;43mself\u001b[39;49m\u001b[38;5;241;43m.\u001b[39;49m\u001b[43mweight\u001b[49m\u001b[43m,\u001b[49m\u001b[43m \u001b[49m\u001b[38;5;28;43mself\u001b[39;49m\u001b[38;5;241;43m.\u001b[39;49m\u001b[43mbias\u001b[49m\u001b[43m)\u001b[49m\n",
      "File \u001b[0;32m/opt/anaconda3/lib/python3.10/site-packages/torch/nn/modules/conv.py:454\u001b[0m, in \u001b[0;36mConv2d._conv_forward\u001b[0;34m(self, input, weight, bias)\u001b[0m\n\u001b[1;32m    450\u001b[0m \u001b[38;5;28;01mif\u001b[39;00m \u001b[38;5;28mself\u001b[39m\u001b[38;5;241m.\u001b[39mpadding_mode \u001b[38;5;241m!=\u001b[39m \u001b[38;5;124m'\u001b[39m\u001b[38;5;124mzeros\u001b[39m\u001b[38;5;124m'\u001b[39m:\n\u001b[1;32m    451\u001b[0m     \u001b[38;5;28;01mreturn\u001b[39;00m F\u001b[38;5;241m.\u001b[39mconv2d(F\u001b[38;5;241m.\u001b[39mpad(\u001b[38;5;28minput\u001b[39m, \u001b[38;5;28mself\u001b[39m\u001b[38;5;241m.\u001b[39m_reversed_padding_repeated_twice, mode\u001b[38;5;241m=\u001b[39m\u001b[38;5;28mself\u001b[39m\u001b[38;5;241m.\u001b[39mpadding_mode),\n\u001b[1;32m    452\u001b[0m                     weight, bias, \u001b[38;5;28mself\u001b[39m\u001b[38;5;241m.\u001b[39mstride,\n\u001b[1;32m    453\u001b[0m                     _pair(\u001b[38;5;241m0\u001b[39m), \u001b[38;5;28mself\u001b[39m\u001b[38;5;241m.\u001b[39mdilation, \u001b[38;5;28mself\u001b[39m\u001b[38;5;241m.\u001b[39mgroups)\n\u001b[0;32m--> 454\u001b[0m \u001b[38;5;28;01mreturn\u001b[39;00m \u001b[43mF\u001b[49m\u001b[38;5;241;43m.\u001b[39;49m\u001b[43mconv2d\u001b[49m\u001b[43m(\u001b[49m\u001b[38;5;28;43minput\u001b[39;49m\u001b[43m,\u001b[49m\u001b[43m \u001b[49m\u001b[43mweight\u001b[49m\u001b[43m,\u001b[49m\u001b[43m \u001b[49m\u001b[43mbias\u001b[49m\u001b[43m,\u001b[49m\u001b[43m \u001b[49m\u001b[38;5;28;43mself\u001b[39;49m\u001b[38;5;241;43m.\u001b[39;49m\u001b[43mstride\u001b[49m\u001b[43m,\u001b[49m\n\u001b[1;32m    455\u001b[0m \u001b[43m                \u001b[49m\u001b[38;5;28;43mself\u001b[39;49m\u001b[38;5;241;43m.\u001b[39;49m\u001b[43mpadding\u001b[49m\u001b[43m,\u001b[49m\u001b[43m \u001b[49m\u001b[38;5;28;43mself\u001b[39;49m\u001b[38;5;241;43m.\u001b[39;49m\u001b[43mdilation\u001b[49m\u001b[43m,\u001b[49m\u001b[43m \u001b[49m\u001b[38;5;28;43mself\u001b[39;49m\u001b[38;5;241;43m.\u001b[39;49m\u001b[43mgroups\u001b[49m\u001b[43m)\u001b[49m\n",
      "\u001b[0;31mKeyboardInterrupt\u001b[0m: "
     ]
    }
   ],
   "source": [
    "# intialize forget model as trained model\n",
    "forget_model = create_model()\n",
    "# forget_model.load_state_dict(torch.load(\"checkpoint/best_model.pth\"))\n",
    "forget_model.load_state_dict(torch.load(\"checkpoint/best_model.pth\", map_location=torch.device('cpu')))\n",
    "\n",
    "criterion = nn.CrossEntropyLoss()\n",
    "optimizer = torch.optim.Adam(forget_model.parameters(), lr=0.0001)\n",
    "scheduler = torch.optim.lr_scheduler.ReduceLROnPlateau(optimizer, mode='min', factor=0.1, patience=3, verbose=True)\n",
    "\n",
    "\n",
    "# Unlearn the forget set\n",
    "epochs = 10\n",
    "forget_model, losses, losses_val = unlearning(forget_model, retain_loader, val_loader, epochs=epochs, criterion=criterion, optimizer=optimizer, scheduler=scheduler)"
   ]
  },
  {
   "cell_type": "markdown",
   "metadata": {},
   "source": [
    "**Below there is the evaluation of your unlearned by fine-tuning model**"
   ]
  },
  {
   "cell_type": "code",
   "execution_count": null,
   "metadata": {},
   "outputs": [
    {
     "name": "stderr",
     "output_type": "stream",
     "text": [
      "/var/folders/g1/_jmd0tb55d58p50yyylwr0_00000gn/T/ipykernel_75870/1861309560.py:3: FutureWarning: You are using `torch.load` with `weights_only=False` (the current default value), which uses the default pickle module implicitly. It is possible to construct malicious pickle data which will execute arbitrary code during unpickling (See https://github.com/pytorch/pytorch/blob/main/SECURITY.md#untrusted-models for more details). In a future release, the default value for `weights_only` will be flipped to `True`. This limits the functions that could be executed during unpickling. Arbitrary objects will no longer be allowed to be loaded via this mode unless they are explicitly allowlisted by the user via `torch.serialization.add_safe_globals`. We recommend you start setting `weights_only=True` for any use case where you don't have full control of the loaded file. Please open an issue on GitHub for any issues related to this experimental feature.\n",
      "  forget_model.load_state_dict(torch.load(\"checkpoint/forget_model.pth\"));\n"
     ]
    },
    {
     "name": "stdout",
     "output_type": "stream",
     "text": [
      "Retain set Accuracy: 88.9800\n",
      "Forget set Accuracy: 30.8000\n",
      "Test set Accuracy: 77.3375\n",
      "Test set Retain Accuracy: 83.1250\n",
      "Test set Forget Accuracy: 25.2500\n"
     ]
    }
   ],
   "source": [
    "# load weights forget model\n",
    "forget_model = create_model()\n",
    "forget_model.load_state_dict(torch.load(\"checkpoint/forget_model.pth\"));\n",
    "forget_model.eval()\n",
    "forget_model.to(device);\n",
    "\n",
    "# print accuracies on retain, forget and test set\n",
    "retain_accuracy = accuracy(forget_model, retain_loader)\n",
    "forget_accuracy = accuracy(forget_model, forget_loader)\n",
    "test_accuracy = accuracy(forget_model, test_loader)\n",
    "test_accuracy_retain = accuracy(forget_model, retain_loader_test)\n",
    "test_accuracy_forget = accuracy(forget_model, forget_loader_test)\n",
    "\n",
    "print(f\"Retain set Accuracy: {100* retain_accuracy:.4f}\")\n",
    "print(f\"Forget set Accuracy: {100* forget_accuracy:.4f}\")\n",
    "print(f\"Test set Accuracy: {100* test_accuracy:.4f}\") # whole test set\n",
    "print(f\"Test set Retain Accuracy: {100* test_accuracy_retain:.4f}\")\n",
    "print(f\"Test set Forget Accuracy: {100* test_accuracy_forget:.4f}\")"
   ]
  },
  {
   "cell_type": "markdown",
   "metadata": {},
   "source": [
    "#### Your Turn (1 Point)\n",
    "\n",
    "**Question**\n",
    "\n",
    "Q: *Summarize what you have learned. Specifically, interpret the accuracy values for the retain and forget sets during training. Additionally, discuss what can be inferred from the accuracy at test time for the entire test set, as well as for the two subsets of forget and retain.*\n",
    "\n",
    "A: During training, the retain set accuracy is almost 89%, which is a great result, since it shows that the model has learned the patterns of the retained data. Forget set accuracy is 30% which is really poor, thus the model can't recognize very well the forgotten class\n",
    "\n",
    "During test, we see that overall accuracy is almost 77%, lower than the retain set's one during training, showing that the unlearning process has slightly affected the overall accuracy.\n",
    "For the retain and forget sets we get great results since the first one has an accuracy of almost 83%, which isn't very far from 89% during training, and the second one is even lower than in the training phase, showing that the model has unlearned the patterns about airplanes"
   ]
  },
  {
   "cell_type": "markdown",
   "metadata": {},
   "source": [
    "# Section 3: Gold model"
   ]
  },
  {
   "cell_type": "markdown",
   "metadata": {},
   "source": [
    "One might ask, how good are the scores above? What is the best possible score? Since our goal is to approximate a model that has been trained **only on** the retain set, we'll consider that the gold standard is the score achieved by this model. Such a model is called here the *gold model*."
   ]
  },
  {
   "cell_type": "code",
   "execution_count": 52,
   "metadata": {},
   "outputs": [
    {
     "name": "stderr",
     "output_type": "stream",
     "text": [
      "/var/folders/g1/_jmd0tb55d58p50yyylwr0_00000gn/T/ipykernel_75870/4189939539.py:3: FutureWarning: You are using `torch.load` with `weights_only=False` (the current default value), which uses the default pickle module implicitly. It is possible to construct malicious pickle data which will execute arbitrary code during unpickling (See https://github.com/pytorch/pytorch/blob/main/SECURITY.md#untrusted-models for more details). In a future release, the default value for `weights_only` will be flipped to `True`. This limits the functions that could be executed during unpickling. Arbitrary objects will no longer be allowed to be loaded via this mode unless they are explicitly allowlisted by the user via `torch.serialization.add_safe_globals`. We recommend you start setting `weights_only=True` for any use case where you don't have full control of the loaded file. Please open an issue on GitHub for any issues related to this experimental feature.\n",
      "  gold_model.load_state_dict(torch.load(\"checkpoint/model_weights.pth\"))\n"
     ]
    }
   ],
   "source": [
    "# train only on retain set\n",
    "gold_model = create_model()\n",
    "gold_model.load_state_dict(torch.load(\"checkpoint/model_weights.pth\"))\n",
    "gold_model.to(device);\n",
    "\n",
    "criterion = nn.CrossEntropyLoss()\n",
    "optimizer = torch.optim.Adam(gold_model.parameters(), lr=0.0001)\n",
    "scheduler = torch.optim.lr_scheduler.ReduceLROnPlateau(optimizer, mode='min', factor=0.1, patience=5, verbose=True)\n",
    "num_epochs = 20"
   ]
  },
  {
   "cell_type": "markdown",
   "metadata": {},
   "source": [
    "#### Your Turn ( 1 Point)\n",
    "\n",
    "Implement the training loop for the Gold Model. Store you losses inside the ```losses``` and ```losses_val``` lists.\n",
    "\n",
    "**IMPORTANT: save the best checkpoint of this model to a checkpoint file called \"checkpoint/gold_model.pth\"**"
   ]
  },
  {
   "cell_type": "code",
   "execution_count": 53,
   "metadata": {},
   "outputs": [
    {
     "name": "stderr",
     "output_type": "stream",
     "text": [
      "Epoch [1/20]: 100%|██████████| 88/88 [00:36<00:00,  2.43it/s, loss=2.16]\n"
     ]
    },
    {
     "name": "stdout",
     "output_type": "stream",
     "text": [
      "Epoch [1/20], Average Loss: 2.2299\n",
      "Validation Loss: 2.1480\n",
      "Saved best model checkpoint at epoch 1\n"
     ]
    },
    {
     "name": "stderr",
     "output_type": "stream",
     "text": [
      "Epoch [2/20]: 100%|██████████| 88/88 [00:36<00:00,  2.41it/s, loss=2.03]\n"
     ]
    },
    {
     "name": "stdout",
     "output_type": "stream",
     "text": [
      "Epoch [2/20], Average Loss: 2.0962\n",
      "Validation Loss: 2.0137\n",
      "Saved best model checkpoint at epoch 2\n"
     ]
    },
    {
     "name": "stderr",
     "output_type": "stream",
     "text": [
      "Epoch [3/20]: 100%|██████████| 88/88 [00:34<00:00,  2.52it/s, loss=1.9] \n"
     ]
    },
    {
     "name": "stdout",
     "output_type": "stream",
     "text": [
      "Epoch [3/20], Average Loss: 1.9647\n",
      "Validation Loss: 1.8678\n",
      "Saved best model checkpoint at epoch 3\n"
     ]
    },
    {
     "name": "stderr",
     "output_type": "stream",
     "text": [
      "Epoch [4/20]: 100%|██████████| 88/88 [00:34<00:00,  2.54it/s, loss=1.76]\n"
     ]
    },
    {
     "name": "stdout",
     "output_type": "stream",
     "text": [
      "Epoch [4/20], Average Loss: 1.8268\n",
      "Validation Loss: 1.7236\n",
      "Saved best model checkpoint at epoch 4\n"
     ]
    },
    {
     "name": "stderr",
     "output_type": "stream",
     "text": [
      "Epoch [5/20]: 100%|██████████| 88/88 [00:35<00:00,  2.50it/s, loss=1.65]\n"
     ]
    },
    {
     "name": "stdout",
     "output_type": "stream",
     "text": [
      "Epoch [5/20], Average Loss: 1.7085\n",
      "Validation Loss: 1.6159\n",
      "Saved best model checkpoint at epoch 5\n"
     ]
    },
    {
     "name": "stderr",
     "output_type": "stream",
     "text": [
      "Epoch [6/20]: 100%|██████████| 88/88 [00:38<00:00,  2.28it/s, loss=1.57]\n"
     ]
    },
    {
     "name": "stdout",
     "output_type": "stream",
     "text": [
      "Epoch [6/20], Average Loss: 1.6179\n",
      "Validation Loss: 1.5298\n",
      "Saved best model checkpoint at epoch 6\n"
     ]
    },
    {
     "name": "stderr",
     "output_type": "stream",
     "text": [
      "Epoch [7/20]: 100%|██████████| 88/88 [00:34<00:00,  2.58it/s, loss=1.53]\n"
     ]
    },
    {
     "name": "stdout",
     "output_type": "stream",
     "text": [
      "Epoch [7/20], Average Loss: 1.5400\n",
      "Validation Loss: 1.4595\n",
      "Saved best model checkpoint at epoch 7\n"
     ]
    },
    {
     "name": "stderr",
     "output_type": "stream",
     "text": [
      "Epoch [8/20]: 100%|██████████| 88/88 [00:33<00:00,  2.61it/s, loss=1.47]\n"
     ]
    },
    {
     "name": "stdout",
     "output_type": "stream",
     "text": [
      "Epoch [8/20], Average Loss: 1.4801\n",
      "Validation Loss: 1.4056\n",
      "Saved best model checkpoint at epoch 8\n"
     ]
    },
    {
     "name": "stderr",
     "output_type": "stream",
     "text": [
      "Epoch [9/20]: 100%|██████████| 88/88 [00:34<00:00,  2.57it/s, loss=1.38]\n"
     ]
    },
    {
     "name": "stdout",
     "output_type": "stream",
     "text": [
      "Epoch [9/20], Average Loss: 1.4295\n",
      "Validation Loss: 1.3466\n",
      "Saved best model checkpoint at epoch 9\n"
     ]
    },
    {
     "name": "stderr",
     "output_type": "stream",
     "text": [
      "Epoch [10/20]: 100%|██████████| 88/88 [00:35<00:00,  2.45it/s, loss=1.33]\n"
     ]
    },
    {
     "name": "stdout",
     "output_type": "stream",
     "text": [
      "Epoch [10/20], Average Loss: 1.3847\n",
      "Validation Loss: 1.3061\n",
      "Saved best model checkpoint at epoch 10\n"
     ]
    },
    {
     "name": "stderr",
     "output_type": "stream",
     "text": [
      "Epoch [11/20]: 100%|██████████| 88/88 [00:40<00:00,  2.16it/s, loss=1.34]\n"
     ]
    },
    {
     "name": "stdout",
     "output_type": "stream",
     "text": [
      "Epoch [11/20], Average Loss: 1.3507\n",
      "Validation Loss: 1.2541\n",
      "Saved best model checkpoint at epoch 11\n"
     ]
    },
    {
     "name": "stderr",
     "output_type": "stream",
     "text": [
      "Epoch [12/20]: 100%|██████████| 88/88 [00:54<00:00,  1.61it/s, loss=1.31]\n"
     ]
    },
    {
     "name": "stdout",
     "output_type": "stream",
     "text": [
      "Epoch [12/20], Average Loss: 1.3170\n",
      "Validation Loss: 1.2295\n",
      "Saved best model checkpoint at epoch 12\n"
     ]
    },
    {
     "name": "stderr",
     "output_type": "stream",
     "text": [
      "Epoch [13/20]: 100%|██████████| 88/88 [00:40<00:00,  2.16it/s, loss=1.29]\n"
     ]
    },
    {
     "name": "stdout",
     "output_type": "stream",
     "text": [
      "Epoch [13/20], Average Loss: 1.2859\n",
      "Validation Loss: 1.1882\n",
      "Saved best model checkpoint at epoch 13\n"
     ]
    },
    {
     "name": "stderr",
     "output_type": "stream",
     "text": [
      "Epoch [14/20]: 100%|██████████| 88/88 [00:36<00:00,  2.44it/s, loss=1.18]\n"
     ]
    },
    {
     "name": "stdout",
     "output_type": "stream",
     "text": [
      "Epoch [14/20], Average Loss: 1.2680\n",
      "Validation Loss: 1.1790\n",
      "Saved best model checkpoint at epoch 14\n"
     ]
    },
    {
     "name": "stderr",
     "output_type": "stream",
     "text": [
      "Epoch [15/20]: 100%|██████████| 88/88 [00:34<00:00,  2.56it/s, loss=1.22]\n"
     ]
    },
    {
     "name": "stdout",
     "output_type": "stream",
     "text": [
      "Epoch [15/20], Average Loss: 1.2462\n",
      "Validation Loss: 1.1660\n",
      "Saved best model checkpoint at epoch 15\n"
     ]
    },
    {
     "name": "stderr",
     "output_type": "stream",
     "text": [
      "Epoch [16/20]: 100%|██████████| 88/88 [00:35<00:00,  2.51it/s, loss=1.11]\n"
     ]
    },
    {
     "name": "stdout",
     "output_type": "stream",
     "text": [
      "Epoch [16/20], Average Loss: 1.2229\n",
      "Validation Loss: 1.1313\n",
      "Saved best model checkpoint at epoch 16\n"
     ]
    },
    {
     "name": "stderr",
     "output_type": "stream",
     "text": [
      "Epoch [17/20]: 100%|██████████| 88/88 [00:46<00:00,  1.87it/s, loss=1.14]\n"
     ]
    },
    {
     "name": "stdout",
     "output_type": "stream",
     "text": [
      "Epoch [17/20], Average Loss: 1.2104\n",
      "Validation Loss: 1.1098\n",
      "Saved best model checkpoint at epoch 17\n"
     ]
    },
    {
     "name": "stderr",
     "output_type": "stream",
     "text": [
      "Epoch [18/20]: 100%|██████████| 88/88 [00:35<00:00,  2.48it/s, loss=1.19]\n"
     ]
    },
    {
     "name": "stdout",
     "output_type": "stream",
     "text": [
      "Epoch [18/20], Average Loss: 1.1969\n",
      "Validation Loss: 1.1149\n"
     ]
    },
    {
     "name": "stderr",
     "output_type": "stream",
     "text": [
      "Epoch [19/20]: 100%|██████████| 88/88 [00:34<00:00,  2.52it/s, loss=1.14]\n"
     ]
    },
    {
     "name": "stdout",
     "output_type": "stream",
     "text": [
      "Epoch [19/20], Average Loss: 1.1821\n",
      "Validation Loss: 1.0926\n",
      "Saved best model checkpoint at epoch 19\n"
     ]
    },
    {
     "name": "stderr",
     "output_type": "stream",
     "text": [
      "Epoch [20/20]: 100%|██████████| 88/88 [00:34<00:00,  2.54it/s, loss=1.2] \n"
     ]
    },
    {
     "name": "stdout",
     "output_type": "stream",
     "text": [
      "Epoch [20/20], Average Loss: 1.1692\n",
      "Validation Loss: 1.0843\n",
      "Saved best model checkpoint at epoch 20\n"
     ]
    }
   ],
   "source": [
    "# **IMPORTANT: save the best checkpoint of this model to a checkpoint file called \"checkpoint/gold_model.pth\"**\n",
    "'''\n",
    "Add your code below\n",
    "'''\n",
    "\n",
    "losses = []\n",
    "losses_val = []\n",
    "best_loss = float('inf') #infinity\n",
    "\n",
    "#training loop\n",
    "for epoch in range(num_epochs):\n",
    "    \n",
    "    gold_model.train()\n",
    "    running_loss = 0\n",
    "    \n",
    "     # Using tqdm for the progress bar\n",
    "    loop = tqdm(enumerate(retain_loader), total=len(retain_loader), leave=True)\n",
    "    \n",
    "    for batch_idx, (data, targets) in loop:\n",
    "        data, targets = data.to(device), targets.to(device)\n",
    "        \n",
    "        scores = gold_model(data)\n",
    "        loss = criterion(scores, targets)\n",
    "        \n",
    "        optimizer.zero_grad()\n",
    "        loss.backward()\n",
    "\n",
    "        # Gradient descent step\n",
    "        optimizer.step()\n",
    "\n",
    "        # Accumulate loss\n",
    "        running_loss += loss.item()\n",
    "\n",
    "        # Update progress bar with loss and epoch information\n",
    "        loop.set_description(f\"Epoch [{epoch+1}/{num_epochs}]\")\n",
    "        loop.set_postfix(loss=loss.item())\n",
    "    \n",
    "    # Calculate average loss for the epoch\n",
    "    avg_loss = running_loss / len(retain_loader)\n",
    "    losses.append(avg_loss)\n",
    "    \n",
    "    # Adjust the learning rate\n",
    "    scheduler.step(avg_loss)\n",
    "    \n",
    "    # Print loss for this epoch\n",
    "    tqdm.write(f\"Epoch [{epoch+1}/{num_epochs}], Average Loss: {avg_loss:.4f}\")\n",
    "    \n",
    "    \n",
    "    \n",
    "    \n",
    "\n",
    "    ####### VALIDATION ########\n",
    "    gold_model.eval()\n",
    "    val_loss = 0\n",
    "\n",
    "    with torch.no_grad():\n",
    "        for data, targets in retain_loader_val:\n",
    "            data = data.to(device=device)\n",
    "            targets = targets.to(device=device)\n",
    "\n",
    "            scores = gold_model(data)\n",
    "            loss = criterion(scores, targets)\n",
    "            val_loss += loss.item()\n",
    "            \n",
    "            \n",
    "        # Calculate average loss for the epoch\n",
    "        avg_val_loss = val_loss / len(retain_loader_val)\n",
    "        losses_val.append(avg_val_loss)\n",
    "        print(f\"Validation Loss: {avg_val_loss:.4f}\")\n",
    "        \n",
    "        \n",
    "        # saving the model\n",
    "        if avg_val_loss < best_loss:\n",
    "            best_loss = avg_val_loss\n",
    "            torch.save(gold_model.state_dict(), \"checkpoint/gold_model.pth\")\n",
    "            print(\"Saved best model checkpoint at epoch\", epoch+1)\n",
    "    "
   ]
  },
  {
   "cell_type": "code",
   "execution_count": 54,
   "metadata": {},
   "outputs": [
    {
     "name": "stdout",
     "output_type": "stream",
     "text": [
      "Best validation loss: 1.0843\n"
     ]
    },
    {
     "data": {
      "image/png": "[encoded data removed]",
      "text/plain": [
       "<Figure size 1500x500 with 1 Axes>"
      ]
     },
     "metadata": {},
     "output_type": "display_data"
    }
   ],
   "source": [
    "#epoch of best validation loss \n",
    "print(f\"Best validation loss: {best_loss:.4f}\")\n",
    "index_best = losses_val.index(best_loss)\n",
    "\n",
    "plt.figure(figsize=(15, 5))\n",
    "plt.plot(losses, label=\"Train Loss\")\n",
    "plt.plot(losses_val, label=\"Val Loss\")\n",
    "plt.axvline(index_best, color='r', linestyle='--', label=\"Best Val Loss\")\n",
    "plt.legend()\n",
    "plt.title(\"Loss vs Epochs\")\n",
    "plt.xlabel(\"Epochs\")\n",
    "plt.ylabel(\"Loss\")\n",
    "plt.grid()\n",
    "plt.show()"
   ]
  },
  {
   "cell_type": "markdown",
   "metadata": {},
   "source": [
    "**Below there is the evaluation of the gold model**"
   ]
  },
  {
   "cell_type": "code",
   "execution_count": 55,
   "metadata": {},
   "outputs": [
    {
     "name": "stderr",
     "output_type": "stream",
     "text": [
      "/var/folders/g1/_jmd0tb55d58p50yyylwr0_00000gn/T/ipykernel_75870/2111462457.py:3: FutureWarning: You are using `torch.load` with `weights_only=False` (the current default value), which uses the default pickle module implicitly. It is possible to construct malicious pickle data which will execute arbitrary code during unpickling (See https://github.com/pytorch/pytorch/blob/main/SECURITY.md#untrusted-models for more details). In a future release, the default value for `weights_only` will be flipped to `True`. This limits the functions that could be executed during unpickling. Arbitrary objects will no longer be allowed to be loaded via this mode unless they are explicitly allowlisted by the user via `torch.serialization.add_safe_globals`. We recommend you start setting `weights_only=True` for any use case where you don't have full control of the loaded file. Please open an issue on GitHub for any issues related to this experimental feature.\n",
      "  gold_model.load_state_dict(torch.load(\"checkpoint/gold_model.pth\"))\n"
     ]
    },
    {
     "name": "stdout",
     "output_type": "stream",
     "text": [
      "Retain set Accuracy: 60.0289\n",
      "Forget set Accuracy: 0.0000\n",
      "Test set Accuracy: 53.7125\n",
      "Test set Retain Accuracy: 59.6806\n",
      "Test set Forget Accuracy: 0.0000\n"
     ]
    }
   ],
   "source": [
    "# load weights gold model\n",
    "gold_model = create_model()\n",
    "gold_model.load_state_dict(torch.load(\"checkpoint/gold_model.pth\"))\n",
    "gold_model.eval()\n",
    "gold_model.to(device);\n",
    "\n",
    "# print accuracies on retain, forget and test set\n",
    "retain_accuracy = accuracy(gold_model, retain_loader)\n",
    "forget_accuracy = accuracy(gold_model, forget_loader)\n",
    "test_accuracy = accuracy(gold_model, test_loader)\n",
    "test_accuracy_retain = accuracy(gold_model, retain_loader_test)\n",
    "test_accuracy_forget = accuracy(gold_model, forget_loader_test)\n",
    "\n",
    "print(f\"Retain set Accuracy: {100* retain_accuracy:.4f}\")\n",
    "print(f\"Forget set Accuracy: {100* forget_accuracy:.4f}\")\n",
    "print(f\"Test set Accuracy: {100* test_accuracy:.4f}\")\n",
    "print(f\"Test set Retain Accuracy: {100* test_accuracy_retain:.4f}\")\n",
    "print(f\"Test set Forget Accuracy: {100* test_accuracy_forget:.4f}\")"
   ]
  },
  {
   "cell_type": "markdown",
   "metadata": {},
   "source": [
    "#### Your Turn\n",
    "\n",
    "**Question**\n",
    "\n",
    "Q: *Explain the results of the Gold Model. Did you notice something strange?*\n",
    "\n",
    "A: The retain set accuracy, both in training and testing phases, isn't great and this suggests that the model may be overfitting: in fact we see from the loss vs epoch graph that the loss functions keep decreasing without reaching a global minimum.\n",
    "\n",
    "Something really strange is the forget set accuracy, which is 0% in training and in testing. This suggests that the model has completely unlearned some parameters"
   ]
  },
  {
   "cell_type": "markdown",
   "metadata": {},
   "source": [
    "# Section 5: Mia attacks"
   ]
  },
  {
   "cell_type": "markdown",
   "metadata": {},
   "source": [
    "In this section, we'll quantify the quality of the unlearning algorithm through a simple membership inference attack (MIA).\n",
    "MIAs are a type of adversarial attack aimed at determining whether a specific data point was included in the training dataset of a machine learning model. These attacks exploit the behavior of the model to make inferences about the presence or absence of certain data points.\n",
    "This MIA consists of a logistic regression model that predicts whether the model was trained on a particular sample from that sample's loss.\n",
    "\n"
   ]
  },
  {
   "cell_type": "code",
   "execution_count": null,
   "metadata": {},
   "outputs": [],
   "source": [
    "def compute_losses(model, loader, criterion = \"CrossEntropy\"):\n",
    "\n",
    "    \"\"\"\n",
    "    Auxiliary function to compute per-sample losses\n",
    "    Args:\n",
    "    model : model to evaluate\n",
    "    loader : data loader\n",
    "    criterion : loss function. Specify \"CrossEntropy\" for cross-entropy loss or \"KL\" for KL divergence\n",
    "    \"\"\"\n",
    "\n",
    "    device = torch.device(\"cuda\" if torch.cuda.is_available() else \"cpu\")\n",
    "    all_losses = []\n",
    "\n",
    "    for inputs, targets in loader:\n",
    "        inputs, targets = inputs.to(device), targets.to(device)\n",
    "        logits = model(inputs)\n",
    "        losses = nn.CrossEntropyLoss(reduction = \"none\")(logits, targets).detach().cpu().numpy()\n",
    "   \n",
    "        for l in losses:\n",
    "            all_losses.append(l)\n",
    "\n",
    "    return np.array(all_losses)\n"
   ]
  },
  {
   "cell_type": "code",
   "execution_count": null,
   "metadata": {},
   "outputs": [],
   "source": [
    "#model\n",
    "model = create_model()\n",
    "model.load_state_dict(torch.load(\"checkpoint/best_model.pth\"));\n",
    "model.eval()\n",
    "model.to(device);\n",
    "\n",
    "retain_losses = compute_losses(model, retain_loader_test)\n",
    "forget_losses = compute_losses(model, forget_loader_test)\n"
   ]
  },
  {
   "cell_type": "code",
   "execution_count": null,
   "metadata": {},
   "outputs": [],
   "source": [
    "# forget model\n",
    "forget_model = create_model()\n",
    "forget_model.load_state_dict(torch.load(\"checkpoint/forget_model.pth\"));\n",
    "forget_model.eval()\n",
    "forget_model.to(device);\n",
    "\n",
    "retain_losses_forget = compute_losses(forget_model, retain_loader_test)\n",
    "forget_losses_forget = compute_losses(forget_model, forget_loader_test)\n"
   ]
  },
  {
   "cell_type": "code",
   "execution_count": null,
   "metadata": {},
   "outputs": [],
   "source": [
    "# gold model\n",
    "gold_model = create_model()\n",
    "gold_model.load_state_dict(torch.load(\"checkpoint/gold_model.pth\"));\n",
    "gold_model.eval()\n",
    "gold_model.to(device);\n",
    "\n",
    "retain_losses_gold = compute_losses(gold_model, retain_loader_test)\n",
    "forget_losses_gold = compute_losses(gold_model, forget_loader_test)"
   ]
  },
  {
   "cell_type": "code",
   "execution_count": null,
   "metadata": {},
   "outputs": [],
   "source": [
    "# 3 plots woth ax of histograms\n",
    "fig, axs = plt.subplots(1, 3, figsize=(20, 5))\n",
    "\n",
    "#subsample retrain losses to have the same size as the forget losses\n",
    "random_idx = np.random.choice(np.arange(len(retain_losses)), len(forget_losses), replace=False)\n",
    "retain_losses = retain_losses[random_idx]\n",
    "retain_losses_forget = retain_losses_forget[random_idx]\n",
    "retain_losses_gold = retain_losses_gold[random_idx]\n",
    "\n",
    "\n",
    "axs[0].hist(retain_losses, density = True, bins=50, alpha=0.5, label='Retain', color='blue')\n",
    "axs[0].hist(forget_losses, density = True, bins=50, alpha=0.5, label='Forget', color='red')\n",
    "axs[0].set_title('Model')\n",
    "axs[0].set_xlabel('Loss')\n",
    "axs[0].legend()\n",
    "\n",
    "axs[1].hist(retain_losses_forget, density = True, bins=50, alpha=0.5, label='Retain', color='blue')\n",
    "axs[1].hist(forget_losses_forget, density = True, bins=50, alpha=0.5, label='Forget', color='red')\n",
    "axs[1].set_title('Forget Model')\n",
    "axs[1].set_xlabel('Loss')\n",
    "axs[1].legend()\n",
    "\n",
    "axs[2].hist(retain_losses_gold, density = True, bins=50, alpha=0.5, label='Retain', color='blue')\n",
    "axs[2].hist(forget_losses_gold, density = True, bins=50, alpha=0.5, label='Forget', color='red')\n",
    "axs[2].set_title('Gold Model')\n",
    "axs[2].set_xlabel('Loss')\n",
    "axs[2].legend()\n",
    "\n",
    "plt.show()"
   ]
  },
  {
   "cell_type": "code",
   "execution_count": null,
   "metadata": {},
   "outputs": [],
   "source": [
    "def simple_mia(sample_loss, members, n_splits=10, random_state=0):\n",
    "    \"\"\"Computes cross-validation score of a membership inference attack.\n",
    "\n",
    "    Args:\n",
    "      sample_loss : array_like of shape (n,).\n",
    "        objective function evaluated on n samples.\n",
    "      members : array_like of shape (n,),\n",
    "        whether a sample was used for training.\n",
    "      n_splits: int\n",
    "        number of splits to use in the cross-validation.\n",
    "    Returns:\n",
    "      scores : array_like of size (n_splits,)\n",
    "    \"\"\"\n",
    "    \n",
    "    torch.manual_seed(torch.initial_seed())\n",
    "    \n",
    "    unique_members = np.unique(members)\n",
    "    if not np.all(unique_members == np.array([0, 1])):\n",
    "        raise ValueError(\"members should only have 0 and 1s\")\n",
    "\n",
    "    attack_model = linear_model.LogisticRegression(random_state=random_state)\n",
    "    cv = model_selection.StratifiedShuffleSplit(\n",
    "        n_splits=n_splits, random_state = 0\n",
    "    )\n",
    "    \n",
    "    return model_selection.cross_val_score(\n",
    "        attack_model, sample_loss, members, cv=cv, scoring=\"accuracy\", \n",
    "    )"
   ]
  },
  {
   "cell_type": "code",
   "execution_count": null,
   "metadata": {},
   "outputs": [],
   "source": [
    "# mia on model\n",
    "retain_losses_subsample = np.random.choice(retain_losses, len(forget_losses), replace=False)\n",
    "samples_mia = np.concatenate([retain_losses_subsample, forget_losses]).reshape(-1, 1)\n",
    "#balance the number of samples\n",
    "members_mia = np.concatenate([np.zeros(len(retain_losses_subsample)), np.ones(len(forget_losses))])\n",
    "\n",
    "scores_model = simple_mia(samples_mia, members_mia)\n",
    "print(f\"Model MIA score: {scores_model.mean():.4f}\")"
   ]
  },
  {
   "cell_type": "code",
   "execution_count": null,
   "metadata": {},
   "outputs": [],
   "source": [
    "#mia on forget model\n",
    "retain_losses_forget_subsample = np.random.choice(retain_losses_forget, len(forget_losses_forget), replace=False)\n",
    "samples_mia = np.concatenate([retain_losses_forget_subsample, forget_losses_forget]).reshape(-1, 1)\n",
    "members_mia = np.concatenate([np.zeros(len(retain_losses_forget_subsample)), np.ones(len(forget_losses_forget))])\n",
    "\n",
    "scores_forget = simple_mia(samples_mia, members_mia)\n",
    "print(f\"Forget Model MIA score: {scores_forget.mean():.4f}\")"
   ]
  },
  {
   "cell_type": "code",
   "execution_count": null,
   "metadata": {},
   "outputs": [],
   "source": [
    "# mia on gold model\n",
    "retain_losses_gold_subsample = np.random.choice(retain_losses_gold, len(forget_losses_gold), replace=False)\n",
    "samples_mia = np.concatenate([retain_losses_gold_subsample, forget_losses_gold]).reshape(-1, 1)\n",
    "members_mia = np.concatenate([np.zeros(len(retain_losses_gold_subsample)), np.ones(len(forget_losses_gold))])\n",
    "\n",
    "scores_gold = simple_mia(samples_mia, members_mia)\n",
    "print(f\"Gold Model MIA score: {scores_gold.mean():.4f}\")"
   ]
  },
  {
   "cell_type": "markdown",
   "metadata": {},
   "source": [
    "#### Your Turn ( 3 Points)\n",
    "\n",
    "**Question**\n",
    "\n",
    "Q: *For each model, analyze the loss plots and explain the results obtained from the membership inference attack (MIA).*\n",
    "\n",
    "A: ..."
   ]
  },
  {
   "cell_type": "markdown",
   "metadata": {},
   "source": [
    "# 6. Unlearning with Kl divergence\n"
   ]
  },
  {
   "cell_type": "markdown",
   "metadata": {},
   "source": [
    "The Kullback-Leibler (KL) divergence is a measure of how one probability distribution differs from another. In this case, to induce unlearning, we want the model's predictions on the forget set to match a uniform distribution, meaning the model \"forgets\" any specific information about these classes."
   ]
  },
  {
   "cell_type": "markdown",
   "metadata": {},
   "source": [
    "#### Your Turn (1 Point) \n",
    "\n",
    "Next, consider a simple scenario to clarify the concept: a classification problem with four classes. Here, the objective is to unlearn one class by enforcing the logits' distribution (after the softmax) to match a uniform distribution. In this case, let the target distribution for a sample coming from the forget set be $y_{gt} = [0.25, 0.25, 0.25, 0.25]$, and assume that you have achieved the predicted distribution $y_{pred} = [0.25, 0.25, 0.25, 0.25]$\n",
    "\n",
    "**Question**\n",
    "\n",
    "Q: *In this context, why is it preferable to use KL divergence instead of Cross-Entropy? Explain it and fill the code below in order to show it numerically.*\n",
    "\n",
    "A: ..."
   ]
  },
  {
   "cell_type": "code",
   "execution_count": null,
   "metadata": {},
   "outputs": [],
   "source": [
    "y_gt = torch.tensor([0.25, 0.25, 0.25, 0.25])  \n",
    "y_pred = torch.tensor([0.25, 0.25, 0.25, 0.25])\n",
    "\n",
    "'''\n",
    "Add your code below\n",
    "'''\n",
    "cross_entropy = ...\n",
    "kl_div = ...\n",
    "\n",
    "print(f\"Cross Entropy: {cross_entropy:.4f}\")\n",
    "print(f\"KL Divergence: {kl_div:.4f}\")"
   ]
  },
  {
   "cell_type": "markdown",
   "metadata": {},
   "source": [
    "**Question**\n",
    "\n",
    "Q: *Before proceeding, you should explain the relationship between Cross-Entropy and Kullback-Leibler (KL) divergence. Provide the proof showing how to derive the relationship between the two.*\n",
    "\n",
    "A: ..."
   ]
  },
  {
   "cell_type": "code",
   "execution_count": null,
   "metadata": {},
   "outputs": [],
   "source": [
    "#fix seeds\n",
    "np.random.seed(0)\n",
    "torch.manual_seed(0)\n",
    "random.seed(0)\n",
    "torch.cuda.manual_seed(0)\n",
    "torch.cuda.manual_seed_all(0)\n",
    "torch.backends.cudnn.deterministic = True\n",
    "torch.backends.cudnn.benchmark = False"
   ]
  },
  {
   "cell_type": "code",
   "execution_count": null,
   "metadata": {},
   "outputs": [],
   "source": [
    "def make_target (target, number_of_classes = 10):\n",
    "    '''\n",
    "    Function to modify the target class\n",
    "    '''\n",
    "    device = torch.device(\"cuda\" if torch.cuda.is_available() else \"cpu\")\n",
    "    tensor = torch.nn.functional.one_hot(target, num_classes= number_of_classes ).float().to(device)\n",
    "    # Identify rows with 1 in the first position\n",
    "    first_pos_mask = target == 0\n",
    "    \n",
    "    # Substite the rows with 1 in the first position with a uniform distribution\n",
    "    n = tensor.size(1)  # Numero di colonne\n",
    "    uniform_distribution = torch.full((n,), 1.0 / n, device = device)  # Distribuzione uniforme\n",
    "    tensor[first_pos_mask] = uniform_distribution\n",
    "\n",
    "    return tensor"
   ]
  },
  {
   "cell_type": "code",
   "execution_count": null,
   "metadata": {},
   "outputs": [],
   "source": [
    "def unlearning_2 (model, forget_loader, validation, epochs, optimizer, scheduler):\n",
    "    '''\n",
    "    Function to unlearn the forget set\n",
    "    '''\n",
    "    device = torch.device(\"cuda\" if torch.cuda.is_available() else \"cpu\")\n",
    "    epsilon = 1e-5\n",
    "    model.to(device)\n",
    "    losses = []\n",
    "    losses_val = []\n",
    "    \n",
    "    for epoch in range(epochs):\n",
    "        model.train()\n",
    "        loss_epoch = 0\n",
    "        loop = tqdm(enumerate(forget_loader), total=len(forget_loader), leave=True)\n",
    "        for batch_idx, (inputs, targets) in loop:\n",
    "            inputs, targets = inputs.to(device), targets.to(device)\n",
    "            optimizer.zero_grad()\n",
    "            outputs = model(inputs)\n",
    "            outputs = outputs + epsilon\n",
    "            outputs = F.log_softmax(outputs, dim=1)\n",
    "            \n",
    "            targets = make_target(targets)\n",
    "            loss = F.kl_div(outputs, targets, reduction='batchmean')\n",
    "            loss.backward()\n",
    "            optimizer.step()\n",
    "\n",
    "            #running loss\n",
    "            loss_epoch += loss.item()\n",
    "            # Update progress bar with loss and epoch information\n",
    "            loop.set_description(f\"Epoch [{epoch+1}/{epochs}]\")\n",
    "            loop.set_postfix(loss=loss.item())\n",
    "\n",
    "        #avg loss\n",
    "        avg_loss = loss_epoch / len(forget_loader )\n",
    "        losses.append(avg_loss)\n",
    "        #scheduler step\n",
    "        scheduler.step(avg_loss)\n",
    "        tqdm.write(f\"Epoch [{epoch+1}/{epochs}], Average Loss: {avg_loss:.4f}\")\n",
    "\n",
    "        # validation\n",
    "        loss_val = 0\n",
    "        model.eval()\n",
    "        with torch.no_grad():\n",
    "            for data, targets in validation:\n",
    "                data = data.to(device=device)\n",
    "                targets = targets.to(device=device)\n",
    "\n",
    "                scores = model(data)\n",
    "                scores = scores + epsilon\n",
    "                scores = F.log_softmax(scores, dim=1)\n",
    "                targets = make_target(targets)\n",
    "                loss = F.kl_div(scores, targets, reduction='batchmean')\n",
    "                loss_val += loss.item()\n",
    "            # Calculate average loss for the epoch\n",
    "            avg_val_loss = loss_val / len(validation)\n",
    "            losses_val.append(avg_val_loss)\n",
    "            print(f\"Validation Loss: {avg_val_loss:.4f}\")\n",
    "            # if avg val_loss is better than the one before, save the model\n",
    "            if epoch == 0:\n",
    "                # create directory if not exist\n",
    "                os.makedirs(\"checkpoint\", exist_ok=True)\n",
    "                best_loss = avg_val_loss\n",
    "                torch.save(model.state_dict(), \"checkpoint/another_forget_model.pth\")\n",
    "            elif avg_val_loss < best_loss:\n",
    "                best_loss = avg_val_loss\n",
    "                torch.save(model.state_dict(), \"checkpoint/another_forget_model.pth\")\n",
    "    return model, losses, losses_val"
   ]
  },
  {
   "cell_type": "code",
   "execution_count": null,
   "metadata": {},
   "outputs": [],
   "source": [
    "another_forget_model = create_model()\n",
    "another_forget_model.load_state_dict(torch.load(\"checkpoint/best_model.pth\"));\n",
    "another_forget_model.to(device);\n",
    "\n",
    "# optimizer\n",
    "optimizer = torch.optim.Adam(another_forget_model.parameters(), lr=0.0001)\n",
    "scheduler = torch.optim.lr_scheduler.ReduceLROnPlateau(optimizer, mode='min', factor=0.1, patience=5, verbose=True)\n",
    "num_epochs = 10\n",
    "\n",
    "forget_loader = forget_loader\n",
    "val_loader = forget_loader_val\n",
    "\n",
    "another_forget_model, losses, losses_val = unlearning_2(another_forget_model, forget_loader, val_loader, num_epochs, optimizer, scheduler)"
   ]
  },
  {
   "cell_type": "code",
   "execution_count": null,
   "metadata": {},
   "outputs": [],
   "source": [
    "#plot losses\n",
    "#epoch of best validation loss\n",
    "index_best = losses_val.index(min(losses_val))\n",
    "\n",
    "plt.figure(figsize=(15, 5))\n",
    "plt.plot(losses, label=\"Train Loss\")\n",
    "plt.plot(losses_val, label=\"Val Loss\")\n",
    "plt.axvline(index_best, color='r', linestyle='--', label=\"Best Val Loss\")\n",
    "plt.legend()\n",
    "plt.title(\"Loss vs Epochs\")\n",
    "plt.xlabel(\"Epochs\")\n",
    "plt.ylabel(\"Loss\")\n",
    "plt.grid()\n",
    "plt.show()"
   ]
  },
  {
   "cell_type": "code",
   "execution_count": null,
   "metadata": {},
   "outputs": [],
   "source": [
    "# calculate accuracy \n",
    "another_forget_model = create_model()\n",
    "another_forget_model.load_state_dict(torch.load(\"checkpoint/another_forget_model.pth\"))\n",
    "another_forget_model.eval()\n",
    "another_forget_model.to(device)\n",
    "\n",
    "\n",
    "# Calculate the accuracy on the test set\n",
    "retain_accuracy = accuracy(another_forget_model, retain_loader)\n",
    "forget_accuracy = accuracy(another_forget_model, forget_loader)\n",
    "test_accuracy = accuracy(another_forget_model, test_loader)\n",
    "retain_test_accuracy = accuracy(another_forget_model, retain_loader_test)\n",
    "forget_test_accuracy = accuracy(another_forget_model, forget_loader_test)"
   ]
  },
  {
   "cell_type": "code",
   "execution_count": null,
   "metadata": {},
   "outputs": [],
   "source": [
    "# print accuracies on retain, forget and test set\n",
    "print(f\"Retain Accuracy: {100* retain_accuracy:.4f}\")\n",
    "print(f\"Forget Accuracy: {100* forget_accuracy:.4f}\")\n",
    "print(f\"Test Accuracy: {100* test_accuracy:.4f}\")\n",
    "print(f\"Test Retain Accuracy: {100* retain_test_accuracy:.4f}\")\n",
    "print(f\"Test Forget Accuracy: {100* forget_test_accuracy:.4f}\")"
   ]
  },
  {
   "cell_type": "code",
   "execution_count": null,
   "metadata": {},
   "outputs": [],
   "source": [
    "# calculate losses of the model on forget and retain test set\n",
    "retain_losses_CE = compute_losses(another_forget_model, retain_loader_test)\n",
    "forget_losses_CE = compute_losses(another_forget_model, forget_loader_test)"
   ]
  },
  {
   "cell_type": "code",
   "execution_count": null,
   "metadata": {},
   "outputs": [],
   "source": [
    "plt.hist(retain_losses_CE, density = True, bins=50, alpha=0.5, label='Retain', color='blue')\n",
    "plt.hist(forget_losses_CE, density = True, bins=50, alpha=0.5, label='Forget', color='red')\n",
    "plt.title('Another Forget Model')\n",
    "plt.xlabel('Loss')\n",
    "plt.legend()\n",
    "plt.show()"
   ]
  },
  {
   "cell_type": "code",
   "execution_count": null,
   "metadata": {},
   "outputs": [],
   "source": [
    "# mia attack on cross entropy\n",
    "np.random.seed(0)\n",
    "subsample_retain_losses_CE = np.random.choice(retain_losses_CE, len(forget_losses), replace=False)\n",
    "samples_mia = np.concatenate([subsample_retain_losses_CE, forget_losses_CE]).reshape(-1, 1)\n",
    "members_mia = np.concatenate([np.zeros(len(subsample_retain_losses_CE)), np.ones(len(forget_losses))])\n",
    "\n",
    "scores_another_forget = simple_mia(samples_mia, members_mia)\n",
    "print(f\"Another Forget Model MIA score with Cross Entropy losses: {scores_another_forget.mean():.4f}\")"
   ]
  },
  {
   "cell_type": "markdown",
   "metadata": {},
   "source": [
    "This is another way of performing unlearning, you may have noticed that the distributions of the retain and forget sets are different but still there is an overlapping portion. It is very likely that the MIA attack will fail in that specific region."
   ]
  },
  {
   "cell_type": "markdown",
   "metadata": {},
   "source": [
    "# GMN for unlearning (6 Points)\n",
    "\n",
    "Now, we will attempt to use the GMN you have implemented in the theory notebook for the unlearning task. Keep in mind that this is a novel and challenging task, and it is quite possible that the results may not meet your expectations. However, this is the nature of research. Therefore, the evaluation will focus on the clarity of your approach and your ability to justify your choices and results, rather then the result itself."
   ]
  },
  {
   "cell_type": "markdown",
   "metadata": {},
   "source": [
    "First of all, go into the ```Practice/gmn/graph_models.py``` file and replace the empty classes with what you have implemented in the second part of the theory notebook. Then, try to think about and implement an unlearning algorithm that leverages the graph metanetwork, and evaluate the unlearned model with MIA attacks and accuracy scores. It would be super cool to have a neural network (the GMN) that can take as input other pretrained neural networks and produce as output the same networks but unlearned over a specific subset of data samples.\n",
    "\n",
    "In the end, generate a detailed report where you describe your idea, methodology and implementation. Put the most of your effort in explaining us the ideas and the intuitions that you had, since this is what we will reward. Don't be worried if results are poor, there can be many causes of this and it's not your task to solve all of them."
   ]
  },
  {
   "cell_type": "code",
   "execution_count": null,
   "metadata": {},
   "outputs": [],
   "source": [
    "from gmn.graph_models import *\n",
    "from torch_geometric.data import Data, Batch\n",
    "from gmn.graph_construct.model_arch_graph import sequential_to_arch, arch_to_graph, graph_to_arch, arch_to_sequential\n",
    "from gmn.feature_extractor_gmn import NodeEdgeFeatEncoder\n",
    "from gmn.graph_models import MPNN\n",
    "\n",
    "torch.manual_seed(0)\n",
    "\n",
    "weights = torch.load(\"checkpoint/best_model.pth\")\n",
    "model = create_model()\n",
    "model.load_state_dict(weights)\n",
    "arch = sequential_to_arch(model)\n",
    "x, edge_index, edge_attr = arch_to_graph(arch)\n",
    "x = x.float()\n",
    "edge_attr = edge_attr.float()\n",
    "\n",
    "# currently u is a vector of zeros, and it is basically useless. You can consider filling it with what you prefer and leverage it for the task of unlearning\n",
    "g_cnn = Data(x=x, edge_index=edge_index, edge_attr=edge_attr, u = torch.zeros(1, 8))\n",
    "\n",
    "graph_batch = Batch.from_data_list([g_cnn])\n",
    "print(graph_batch)"
   ]
  },
  {
   "cell_type": "code",
   "execution_count": null,
   "metadata": {},
   "outputs": [],
   "source": [
    "class GraphMetaNetwork(nn.Module):\n",
    "    '''\n",
    "    Wrapper class for the graph metanetwork\n",
    "    '''\n",
    "    def __init__(self, encoder, mpnn):\n",
    "        super(GraphMetaNetwork, self).__init__()\n",
    "        self.encoder = encoder\n",
    "        self.mpnn = mpnn\n",
    "\n",
    "    def forward(self, data):\n",
    "        x, edge_index, edge_attr, u, batch = data.x, data.edge_index, data.edge_attr, data.u, data.batch\n",
    "        x, edge_attr = self.encoder(x, edge_attr)\n",
    "        x, edge_attr, u = self.mpnn(x, edge_index, edge_attr, u, batch)\n",
    "        return edge_attr\n",
    "\n",
    "# Define the encoder and MPNN\n",
    "pre_embedding_dim = 64\n",
    "global_in_dim = 8\n",
    "hidden_dim = 32\n",
    "node_out_dim = 3\n",
    "edge_out_dim = 1\n",
    "global_out_dim = 8\n",
    "num_gnn_layers = 4\n",
    "encoder = NodeEdgeFeatEncoder(hidden_dim=pre_embedding_dim)\n",
    "mpnn = MPNN(node_in_dim=pre_embedding_dim,\n",
    "            edge_in_dim=pre_embedding_dim,\n",
    "            global_in_dim = global_in_dim,\n",
    "            hidden_dim=hidden_dim,\n",
    "            node_out_dim= node_out_dim,\n",
    "            edge_out_dim = edge_out_dim,\n",
    "            global_out_dim= global_out_dim,\n",
    "            num_layers=num_gnn_layers,\n",
    "            reduce='mean')\n",
    "\n",
    "# Create the metanetwork\n",
    "gmn = GraphMetaNetwork(encoder, mpnn)\n",
    "gmn.to(device)"
   ]
  },
  {
   "cell_type": "markdown",
   "metadata": {},
   "source": [
    "If you need to convert the output of the gmn back into a neural network model (i.e., an ```nn.Sequential``` object), please look into ```graph_to_arch``` and ```arch_to_sequential``` functions stored in ```Practice/gmn/graph_construct/model_arch_graph.py```."
   ]
  },
  {
   "cell_type": "code",
   "execution_count": null,
   "metadata": {},
   "outputs": [],
   "source": [
    "'''\n",
    "Add your code below\n",
    "'''"
   ]
  },
  {
   "cell_type": "markdown",
   "metadata": {},
   "source": [
    "## Report\n",
    "\n",
    "..."
   ]
  }
 ],
 "metadata": {
  "kernelspec": {
   "display_name": "base",
   "language": "python",
   "name": "python3"
  },
  "language_info": {
   "codemirror_mode": {
    "name": "ipython",
    "version": 3
   },
   "file_extension": ".py",
   "mimetype": "text/x-python",
   "name": "python",
   "nbconvert_exporter": "python",
   "pygments_lexer": "ipython3",
   "version": "3.10.14"
  }
 },
 "nbformat": 4,
 "nbformat_minor": 2
}
